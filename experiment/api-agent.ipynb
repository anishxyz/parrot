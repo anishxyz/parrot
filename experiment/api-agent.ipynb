{
 "cells": [
  {
   "cell_type": "code",
   "metadata": {
    "collapsed": true,
    "ExecuteTime": {
     "end_time": "2024-07-07T22:32:53.807845Z",
     "start_time": "2024-07-07T22:32:52.665901Z"
    }
   },
   "source": [
    "!pip install openai"
   ],
   "outputs": [
    {
     "name": "stdout",
     "output_type": "stream",
     "text": [
      "Requirement already satisfied: openai in /Users/anishagrawal/Desktop/Development/parrot/venv/lib/python3.11/site-packages (1.35.10)\r\n",
      "Requirement already satisfied: anyio<5,>=3.5.0 in /Users/anishagrawal/Desktop/Development/parrot/venv/lib/python3.11/site-packages (from openai) (4.4.0)\r\n",
      "Requirement already satisfied: distro<2,>=1.7.0 in /Users/anishagrawal/Desktop/Development/parrot/venv/lib/python3.11/site-packages (from openai) (1.9.0)\r\n",
      "Requirement already satisfied: httpx<1,>=0.23.0 in /Users/anishagrawal/Desktop/Development/parrot/venv/lib/python3.11/site-packages (from openai) (0.27.0)\r\n",
      "Requirement already satisfied: pydantic<3,>=1.9.0 in /Users/anishagrawal/Desktop/Development/parrot/venv/lib/python3.11/site-packages (from openai) (2.8.2)\r\n",
      "Requirement already satisfied: sniffio in /Users/anishagrawal/Desktop/Development/parrot/venv/lib/python3.11/site-packages (from openai) (1.3.1)\r\n",
      "Requirement already satisfied: tqdm>4 in /Users/anishagrawal/Desktop/Development/parrot/venv/lib/python3.11/site-packages (from openai) (4.66.4)\r\n",
      "Requirement already satisfied: typing-extensions<5,>=4.7 in /Users/anishagrawal/Desktop/Development/parrot/venv/lib/python3.11/site-packages (from openai) (4.12.2)\r\n",
      "Requirement already satisfied: idna>=2.8 in /Users/anishagrawal/Desktop/Development/parrot/venv/lib/python3.11/site-packages (from anyio<5,>=3.5.0->openai) (3.7)\r\n",
      "Requirement already satisfied: certifi in /Users/anishagrawal/Desktop/Development/parrot/venv/lib/python3.11/site-packages (from httpx<1,>=0.23.0->openai) (2024.7.4)\r\n",
      "Requirement already satisfied: httpcore==1.* in /Users/anishagrawal/Desktop/Development/parrot/venv/lib/python3.11/site-packages (from httpx<1,>=0.23.0->openai) (1.0.5)\r\n",
      "Requirement already satisfied: h11<0.15,>=0.13 in /Users/anishagrawal/Desktop/Development/parrot/venv/lib/python3.11/site-packages (from httpcore==1.*->httpx<1,>=0.23.0->openai) (0.14.0)\r\n",
      "Requirement already satisfied: annotated-types>=0.4.0 in /Users/anishagrawal/Desktop/Development/parrot/venv/lib/python3.11/site-packages (from pydantic<3,>=1.9.0->openai) (0.7.0)\r\n",
      "Requirement already satisfied: pydantic-core==2.20.1 in /Users/anishagrawal/Desktop/Development/parrot/venv/lib/python3.11/site-packages (from pydantic<3,>=1.9.0->openai) (2.20.1)\r\n",
      "\r\n",
      "\u001B[1m[\u001B[0m\u001B[34;49mnotice\u001B[0m\u001B[1;39;49m]\u001B[0m\u001B[39;49m A new release of pip available: \u001B[0m\u001B[31;49m22.3.1\u001B[0m\u001B[39;49m -> \u001B[0m\u001B[32;49m24.1.2\u001B[0m\r\n",
      "\u001B[1m[\u001B[0m\u001B[34;49mnotice\u001B[0m\u001B[1;39;49m]\u001B[0m\u001B[39;49m To update, run: \u001B[0m\u001B[32;49mpip install --upgrade pip\u001B[0m\r\n"
     ]
    }
   ],
   "execution_count": 1
  },
  {
   "cell_type": "code",
   "source": [
    "from dotenv import load_dotenv\n",
    "from openai import OpenAI\n",
    "\n",
    "load_dotenv()\n",
    "\n",
    "client = OpenAI()"
   ],
   "metadata": {
    "collapsed": false,
    "ExecuteTime": {
     "end_time": "2024-07-07T22:33:37.622426Z",
     "start_time": "2024-07-07T22:33:37.606680Z"
    }
   },
   "outputs": [],
   "execution_count": 3
  },
  {
   "cell_type": "code",
   "source": [
    "import os\n",
    "\n",
    "ASST_ID = os.environ[\"OPENAI_PARROT_AGENT_ASST\"]"
   ],
   "metadata": {
    "collapsed": false,
    "ExecuteTime": {
     "end_time": "2024-07-07T23:12:39.928164Z",
     "start_time": "2024-07-07T23:12:39.921666Z"
    }
   },
   "outputs": [
    {
     "data": {
      "text/plain": [
       "'asst_Clvw6TlZIa6KpWgbYiXxrePW'"
      ]
     },
     "execution_count": 4,
     "metadata": {},
     "output_type": "execute_result"
    }
   ],
   "execution_count": 4
  },
  {
   "cell_type": "code",
   "execution_count": null,
   "outputs": [],
   "source": [
    "from typing import List\n",
    "# tools for assistant\n",
    "import httpx\n",
    "\n",
    "BASE_URL = \"https://example.com/api\"\n",
    "HEADERS = {\"Authorization\": \"Bearer your_token_here\"}\n",
    "\n",
    "def run_api_call(route: str, method: str, data: dict = None) -> dict:\n",
    "    \"\"\"\n",
    "    Function to make an API call to a specified route using the specified method.\n",
    "    Supports GET and POST methods, with data only being used for POST.\n",
    "\n",
    "    Parameters:\n",
    "        route (str): The API route.\n",
    "        method (str): The HTTP method ('GET' or 'POST').\n",
    "        data (dict, optional): Data to send with POST requests.\n",
    "\n",
    "    Returns:\n",
    "        dict: The response from the API as a dictionary.\n",
    "    \"\"\"\n",
    "    url = f\"{BASE_URL}/{route.strip('/')}\"  # Ensure the route is correctly appended to the base URL\n",
    "    with httpx.Client(headers=HEADERS) as client:\n",
    "        if method.upper() == 'POST':\n",
    "            response = client.post(url, json=data)\n",
    "        elif method.upper() == 'GET':\n",
    "            response = client.get(url)\n",
    "        else:\n",
    "            return {\"error\": f\"Unsupported method: {method}\"}\n",
    "\n",
    "        # Return the JSON response if possible, otherwise return the status code\n",
    "        return response.json() if response.is_success else {'status_code': response.status_code, 'detail': response.text}\n",
    "\n",
    "def get_dependency_tree(asset_names: List[str]):\n",
    "    # generate dependency tree\n",
    "    pass\n",
    "\n",
    "def get_routes_for_asset():\n",
    "    pass\n"
   ],
   "metadata": {
    "collapsed": false
   }
  },
  {
   "metadata": {},
   "cell_type": "code",
   "outputs": [],
   "execution_count": null,
   "source": [
    "from ipynb.fs.full.open import organize_resources\n",
    "\n",
    "organize_resources({})"
   ]
  }
 ],
 "metadata": {
  "kernelspec": {
   "display_name": "Python 3",
   "language": "python",
   "name": "python3"
  },
  "language_info": {
   "codemirror_mode": {
    "name": "ipython",
    "version": 2
   },
   "file_extension": ".py",
   "mimetype": "text/x-python",
   "name": "python",
   "nbconvert_exporter": "python",
   "pygments_lexer": "ipython2",
   "version": "2.7.6"
  }
 },
 "nbformat": 4,
 "nbformat_minor": 0
}
