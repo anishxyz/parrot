{
 "cells": [
  {
   "cell_type": "code",
   "metadata": {
    "collapsed": true,
    "ExecuteTime": {
     "end_time": "2024-07-07T22:32:53.807845Z",
     "start_time": "2024-07-07T22:32:52.665901Z"
    }
   },
   "source": [
    "!pip install openai"
   ],
   "outputs": [
    {
     "name": "stdout",
     "output_type": "stream",
     "text": [
      "Requirement already satisfied: openai in /Users/anishagrawal/Desktop/Development/parrot/venv/lib/python3.11/site-packages (1.35.10)\r\n",
      "Requirement already satisfied: anyio<5,>=3.5.0 in /Users/anishagrawal/Desktop/Development/parrot/venv/lib/python3.11/site-packages (from openai) (4.4.0)\r\n",
      "Requirement already satisfied: distro<2,>=1.7.0 in /Users/anishagrawal/Desktop/Development/parrot/venv/lib/python3.11/site-packages (from openai) (1.9.0)\r\n",
      "Requirement already satisfied: httpx<1,>=0.23.0 in /Users/anishagrawal/Desktop/Development/parrot/venv/lib/python3.11/site-packages (from openai) (0.27.0)\r\n",
      "Requirement already satisfied: pydantic<3,>=1.9.0 in /Users/anishagrawal/Desktop/Development/parrot/venv/lib/python3.11/site-packages (from openai) (2.8.2)\r\n",
      "Requirement already satisfied: sniffio in /Users/anishagrawal/Desktop/Development/parrot/venv/lib/python3.11/site-packages (from openai) (1.3.1)\r\n",
      "Requirement already satisfied: tqdm>4 in /Users/anishagrawal/Desktop/Development/parrot/venv/lib/python3.11/site-packages (from openai) (4.66.4)\r\n",
      "Requirement already satisfied: typing-extensions<5,>=4.7 in /Users/anishagrawal/Desktop/Development/parrot/venv/lib/python3.11/site-packages (from openai) (4.12.2)\r\n",
      "Requirement already satisfied: idna>=2.8 in /Users/anishagrawal/Desktop/Development/parrot/venv/lib/python3.11/site-packages (from anyio<5,>=3.5.0->openai) (3.7)\r\n",
      "Requirement already satisfied: certifi in /Users/anishagrawal/Desktop/Development/parrot/venv/lib/python3.11/site-packages (from httpx<1,>=0.23.0->openai) (2024.7.4)\r\n",
      "Requirement already satisfied: httpcore==1.* in /Users/anishagrawal/Desktop/Development/parrot/venv/lib/python3.11/site-packages (from httpx<1,>=0.23.0->openai) (1.0.5)\r\n",
      "Requirement already satisfied: h11<0.15,>=0.13 in /Users/anishagrawal/Desktop/Development/parrot/venv/lib/python3.11/site-packages (from httpcore==1.*->httpx<1,>=0.23.0->openai) (0.14.0)\r\n",
      "Requirement already satisfied: annotated-types>=0.4.0 in /Users/anishagrawal/Desktop/Development/parrot/venv/lib/python3.11/site-packages (from pydantic<3,>=1.9.0->openai) (0.7.0)\r\n",
      "Requirement already satisfied: pydantic-core==2.20.1 in /Users/anishagrawal/Desktop/Development/parrot/venv/lib/python3.11/site-packages (from pydantic<3,>=1.9.0->openai) (2.20.1)\r\n",
      "\r\n",
      "\u001B[1m[\u001B[0m\u001B[34;49mnotice\u001B[0m\u001B[1;39;49m]\u001B[0m\u001B[39;49m A new release of pip available: \u001B[0m\u001B[31;49m22.3.1\u001B[0m\u001B[39;49m -> \u001B[0m\u001B[32;49m24.1.2\u001B[0m\r\n",
      "\u001B[1m[\u001B[0m\u001B[34;49mnotice\u001B[0m\u001B[1;39;49m]\u001B[0m\u001B[39;49m To update, run: \u001B[0m\u001B[32;49mpip install --upgrade pip\u001B[0m\r\n"
     ]
    }
   ],
   "execution_count": 1
  },
  {
   "cell_type": "code",
   "source": [
    "from dotenv import load_dotenv\n",
    "from openai import OpenAI\n",
    "\n",
    "load_dotenv()\n",
    "\n",
    "client = OpenAI()"
   ],
   "metadata": {
    "collapsed": false,
    "ExecuteTime": {
     "end_time": "2024-07-07T22:33:37.622426Z",
     "start_time": "2024-07-07T22:33:37.606680Z"
    }
   },
   "outputs": [],
   "execution_count": 3
  },
  {
   "cell_type": "code",
   "source": [
    "import os\n",
    "\n",
    "ASST_ID = os.environ[\"OPENAI_PARROT_AGENT_ASST\"]"
   ],
   "metadata": {
    "collapsed": false,
    "ExecuteTime": {
     "end_time": "2024-07-07T23:12:39.928164Z",
     "start_time": "2024-07-07T23:12:39.921666Z"
    }
   },
   "outputs": [
    {
     "data": {
      "text/plain": [
       "'asst_Clvw6TlZIa6KpWgbYiXxrePW'"
      ]
     },
     "execution_count": 4,
     "metadata": {},
     "output_type": "execute_result"
    }
   ],
   "execution_count": 4
  },
  {
   "cell_type": "code",
   "execution_count": null,
   "outputs": [],
   "source": [
    "from typing import List\n",
    "# tools for assistant\n",
    "import httpx\n",
    "\n",
    "BASE_URL = \"https://example.com/api\"\n",
    "HEADERS = {\"Authorization\": \"Bearer your_token_here\"}\n",
    "\n",
    "def run_api_call(route: str, method: str, data: dict = None) -> dict:\n",
    "    \"\"\"\n",
    "    Function to make an API call to a specified route using the specified method.\n",
    "    Supports GET and POST methods, with data only being used for POST.\n",
    "\n",
    "    Parameters:\n",
    "        route (str): The API route.\n",
    "        method (str): The HTTP method ('GET' or 'POST').\n",
    "        data (dict, optional): Data to send with POST requests.\n",
    "\n",
    "    Returns:\n",
    "        dict: The response from the API as a dictionary.\n",
    "    \"\"\"\n",
    "    url = f\"{BASE_URL}/{route.strip('/')}\"  # Ensure the route is correctly appended to the base URL\n",
    "    with httpx.Client(headers=HEADERS) as client:\n",
    "        if method.upper() == 'POST':\n",
    "            response = client.post(url, json=data)\n",
    "        elif method.upper() == 'GET':\n",
    "            response = client.get(url)\n",
    "        else:\n",
    "            return {\"error\": f\"Unsupported method: {method}\"}\n",
    "\n",
    "        # Return the JSON response if possible, otherwise return the status code\n",
    "        return response.json() if response.is_success else {'status_code': response.status_code, 'detail': response.text}\n",
    "\n",
    "def get_dependency_tree(asset_names: List[str]):\n",
    "    # generate dependency tree\n",
    "    pass\n",
    "\n",
    "def get_routes_for_asset():\n",
    "    pass\n"
   ],
   "metadata": {
    "collapsed": false
   }
  },
  {
   "metadata": {
    "ExecuteTime": {
     "end_time": "2024-07-08T08:47:29.211234Z",
     "start_time": "2024-07-08T08:47:25.074443Z"
    }
   },
   "cell_type": "code",
   "source": "",
   "outputs": [
    {
     "name": "stdout",
     "output_type": "stream",
     "text": [
      "Obtaining openapi_core from git+https://github.com/p1c2u/openapi-core.git#egg=openapi_core\r\n",
      "  Cloning https://github.com/p1c2u/openapi-core.git to /Users/anishagrawal/Desktop/Development/parrot/venv/src/openapi-core\r\n",
      "  Running command git clone --filter=blob:none --quiet https://github.com/p1c2u/openapi-core.git /Users/anishagrawal/Desktop/Development/parrot/venv/src/openapi-core\r\n",
      "  Resolved https://github.com/p1c2u/openapi-core.git to commit ba69ff9d8a9fb939b7d66aecfce6421b48465096\r\n",
      "  Installing build dependencies ... \u001B[?25ldone\r\n",
      "\u001B[?25h  Checking if build backend supports build_editable ... \u001B[?25ldone\r\n",
      "\u001B[?25h  Getting requirements to build editable ... \u001B[?25ldone\r\n",
      "\u001B[?25h  Preparing editable metadata (pyproject.toml) ... \u001B[?25ldone\r\n",
      "\u001B[?25hRequirement already satisfied: isodate in /Users/anishagrawal/Desktop/Development/parrot/venv/lib/python3.11/site-packages (from openapi_core) (0.6.1)\r\n",
      "Requirement already satisfied: jsonschema<5.0.0,>=4.18.0 in /Users/anishagrawal/Desktop/Development/parrot/venv/lib/python3.11/site-packages (from openapi_core) (4.22.0)\r\n",
      "Requirement already satisfied: jsonschema-path<0.4.0,>=0.3.1 in /Users/anishagrawal/Desktop/Development/parrot/venv/lib/python3.11/site-packages (from openapi_core) (0.3.3)\r\n",
      "Requirement already satisfied: more-itertools in /Users/anishagrawal/Desktop/Development/parrot/venv/lib/python3.11/site-packages (from openapi_core) (10.3.0)\r\n",
      "Requirement already satisfied: openapi-schema-validator<0.7.0,>=0.6.0 in /Users/anishagrawal/Desktop/Development/parrot/venv/lib/python3.11/site-packages (from openapi_core) (0.6.2)\r\n",
      "Requirement already satisfied: openapi-spec-validator<0.8.0,>=0.7.1 in /Users/anishagrawal/Desktop/Development/parrot/venv/lib/python3.11/site-packages (from openapi_core) (0.7.1)\r\n",
      "Requirement already satisfied: parse in /Users/anishagrawal/Desktop/Development/parrot/venv/lib/python3.11/site-packages (from openapi_core) (1.20.2)\r\n",
      "Requirement already satisfied: werkzeug in /Users/anishagrawal/Desktop/Development/parrot/venv/lib/python3.11/site-packages (from openapi_core) (3.0.3)\r\n",
      "Requirement already satisfied: attrs>=22.2.0 in /Users/anishagrawal/Desktop/Development/parrot/venv/lib/python3.11/site-packages (from jsonschema<5.0.0,>=4.18.0->openapi_core) (23.2.0)\r\n",
      "Requirement already satisfied: jsonschema-specifications>=2023.03.6 in /Users/anishagrawal/Desktop/Development/parrot/venv/lib/python3.11/site-packages (from jsonschema<5.0.0,>=4.18.0->openapi_core) (2023.12.1)\r\n",
      "Requirement already satisfied: referencing>=0.28.4 in /Users/anishagrawal/Desktop/Development/parrot/venv/lib/python3.11/site-packages (from jsonschema<5.0.0,>=4.18.0->openapi_core) (0.35.1)\r\n",
      "Requirement already satisfied: rpds-py>=0.7.1 in /Users/anishagrawal/Desktop/Development/parrot/venv/lib/python3.11/site-packages (from jsonschema<5.0.0,>=4.18.0->openapi_core) (0.18.1)\r\n",
      "Requirement already satisfied: PyYAML>=5.1 in /Users/anishagrawal/Desktop/Development/parrot/venv/lib/python3.11/site-packages (from jsonschema-path<0.4.0,>=0.3.1->openapi_core) (6.0.1)\r\n",
      "Requirement already satisfied: pathable<0.5.0,>=0.4.1 in /Users/anishagrawal/Desktop/Development/parrot/venv/lib/python3.11/site-packages (from jsonschema-path<0.4.0,>=0.3.1->openapi_core) (0.4.3)\r\n",
      "Requirement already satisfied: requests<3.0.0,>=2.31.0 in /Users/anishagrawal/Desktop/Development/parrot/venv/lib/python3.11/site-packages (from jsonschema-path<0.4.0,>=0.3.1->openapi_core) (2.32.3)\r\n",
      "Requirement already satisfied: rfc3339-validator in /Users/anishagrawal/Desktop/Development/parrot/venv/lib/python3.11/site-packages (from openapi-schema-validator<0.7.0,>=0.6.0->openapi_core) (0.1.4)\r\n",
      "Requirement already satisfied: lazy-object-proxy<2.0.0,>=1.7.1 in /Users/anishagrawal/Desktop/Development/parrot/venv/lib/python3.11/site-packages (from openapi-spec-validator<0.8.0,>=0.7.1->openapi_core) (1.10.0)\r\n",
      "Requirement already satisfied: six in /Users/anishagrawal/Desktop/Development/parrot/venv/lib/python3.11/site-packages (from isodate->openapi_core) (1.16.0)\r\n",
      "Requirement already satisfied: MarkupSafe>=2.1.1 in /Users/anishagrawal/Desktop/Development/parrot/venv/lib/python3.11/site-packages (from werkzeug->openapi_core) (2.1.5)\r\n",
      "Requirement already satisfied: charset-normalizer<4,>=2 in /Users/anishagrawal/Desktop/Development/parrot/venv/lib/python3.11/site-packages (from requests<3.0.0,>=2.31.0->jsonschema-path<0.4.0,>=0.3.1->openapi_core) (3.3.2)\r\n",
      "Requirement already satisfied: idna<4,>=2.5 in /Users/anishagrawal/Desktop/Development/parrot/venv/lib/python3.11/site-packages (from requests<3.0.0,>=2.31.0->jsonschema-path<0.4.0,>=0.3.1->openapi_core) (3.7)\r\n",
      "Requirement already satisfied: urllib3<3,>=1.21.1 in /Users/anishagrawal/Desktop/Development/parrot/venv/lib/python3.11/site-packages (from requests<3.0.0,>=2.31.0->jsonschema-path<0.4.0,>=0.3.1->openapi_core) (2.2.2)\r\n",
      "Requirement already satisfied: certifi>=2017.4.17 in /Users/anishagrawal/Desktop/Development/parrot/venv/lib/python3.11/site-packages (from requests<3.0.0,>=2.31.0->jsonschema-path<0.4.0,>=0.3.1->openapi_core) (2024.7.4)\r\n",
      "Building wheels for collected packages: openapi_core\r\n",
      "  Building editable for openapi_core (pyproject.toml) ... \u001B[?25ldone\r\n",
      "\u001B[?25h  Created wheel for openapi_core: filename=openapi_core-0.19.2-py3-none-any.whl size=3987 sha256=5cee4bf3162ea43e5d2c0e70c22b79c0169ec5eb7e786a1bbb850b39d635fba0\r\n",
      "  Stored in directory: /private/var/folders/_q/0h99568x3sg9_xsf4khsv5600000gn/T/pip-ephem-wheel-cache-zhh1k_vz/wheels/ad/12/d5/0ddb760f86505c185584b1368ac5007c7f732559e32d5775a1\r\n",
      "Successfully built openapi_core\r\n",
      "Installing collected packages: openapi_core\r\n",
      "  Attempting uninstall: openapi_core\r\n",
      "    Found existing installation: openapi-core 0.19.2\r\n",
      "    Uninstalling openapi-core-0.19.2:\r\n",
      "      Successfully uninstalled openapi-core-0.19.2\r\n",
      "Successfully installed openapi_core-0.19.2\r\n",
      "\r\n",
      "\u001B[1m[\u001B[0m\u001B[34;49mnotice\u001B[0m\u001B[1;39;49m]\u001B[0m\u001B[39;49m A new release of pip available: \u001B[0m\u001B[31;49m22.3.1\u001B[0m\u001B[39;49m -> \u001B[0m\u001B[32;49m24.1.2\u001B[0m\r\n",
      "\u001B[1m[\u001B[0m\u001B[34;49mnotice\u001B[0m\u001B[1;39;49m]\u001B[0m\u001B[39;49m To update, run: \u001B[0m\u001B[32;49mpip install --upgrade pip\u001B[0m\r\n"
     ]
    }
   ],
   "execution_count": 1
  }
 ],
 "metadata": {
  "kernelspec": {
   "display_name": "Python 3",
   "language": "python",
   "name": "python3"
  },
  "language_info": {
   "codemirror_mode": {
    "name": "ipython",
    "version": 2
   },
   "file_extension": ".py",
   "mimetype": "text/x-python",
   "name": "python",
   "nbconvert_exporter": "python",
   "pygments_lexer": "ipython2",
   "version": "2.7.6"
  }
 },
 "nbformat": 4,
 "nbformat_minor": 0
}
