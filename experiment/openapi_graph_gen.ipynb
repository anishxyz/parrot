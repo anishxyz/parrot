{
 "cells": [
  {
   "cell_type": "code",
   "execution_count": 38,
   "outputs": [
    {
     "name": "stdout",
     "output_type": "stream",
     "text": [
      "Requirement already satisfied: pydantic in /Library/Frameworks/Python.framework/Versions/3.11/lib/python3.11/site-packages (1.10.12)\r\n",
      "Requirement already satisfied: anytree in /Library/Frameworks/Python.framework/Versions/3.11/lib/python3.11/site-packages (2.12.1)\r\n",
      "Requirement already satisfied: networkx in /Library/Frameworks/Python.framework/Versions/3.11/lib/python3.11/site-packages (3.3)\r\n",
      "Requirement already satisfied: matplotlib in /Library/Frameworks/Python.framework/Versions/3.11/lib/python3.11/site-packages (3.7.1)\r\n",
      "Requirement already satisfied: inflect in /Library/Frameworks/Python.framework/Versions/3.11/lib/python3.11/site-packages (7.3.1)\r\n",
      "Requirement already satisfied: typing-extensions>=4.2.0 in /Library/Frameworks/Python.framework/Versions/3.11/lib/python3.11/site-packages (from pydantic) (4.12.2)\r\n",
      "Requirement already satisfied: six in /Library/Frameworks/Python.framework/Versions/3.11/lib/python3.11/site-packages (from anytree) (1.16.0)\r\n",
      "Requirement already satisfied: contourpy>=1.0.1 in /Library/Frameworks/Python.framework/Versions/3.11/lib/python3.11/site-packages (from matplotlib) (1.0.7)\r\n",
      "Requirement already satisfied: cycler>=0.10 in /Library/Frameworks/Python.framework/Versions/3.11/lib/python3.11/site-packages (from matplotlib) (0.11.0)\r\n",
      "Requirement already satisfied: fonttools>=4.22.0 in /Library/Frameworks/Python.framework/Versions/3.11/lib/python3.11/site-packages (from matplotlib) (4.39.3)\r\n",
      "Requirement already satisfied: kiwisolver>=1.0.1 in /Library/Frameworks/Python.framework/Versions/3.11/lib/python3.11/site-packages (from matplotlib) (1.4.4)\r\n",
      "Requirement already satisfied: numpy>=1.20 in /Library/Frameworks/Python.framework/Versions/3.11/lib/python3.11/site-packages (from matplotlib) (1.24.2)\r\n",
      "Requirement already satisfied: packaging>=20.0 in /Library/Frameworks/Python.framework/Versions/3.11/lib/python3.11/site-packages (from matplotlib) (23.0)\r\n",
      "Requirement already satisfied: pillow>=6.2.0 in /Library/Frameworks/Python.framework/Versions/3.11/lib/python3.11/site-packages (from matplotlib) (9.5.0)\r\n",
      "Requirement already satisfied: pyparsing>=2.3.1 in /Library/Frameworks/Python.framework/Versions/3.11/lib/python3.11/site-packages (from matplotlib) (3.0.9)\r\n",
      "Requirement already satisfied: python-dateutil>=2.7 in /Library/Frameworks/Python.framework/Versions/3.11/lib/python3.11/site-packages (from matplotlib) (2.8.2)\r\n",
      "Requirement already satisfied: more-itertools>=8.5.0 in /Library/Frameworks/Python.framework/Versions/3.11/lib/python3.11/site-packages (from inflect) (10.3.0)\r\n",
      "Requirement already satisfied: typeguard>=4.0.1 in /Library/Frameworks/Python.framework/Versions/3.11/lib/python3.11/site-packages (from inflect) (4.3.0)\r\n",
      "\r\n",
      "\u001B[1m[\u001B[0m\u001B[34;49mnotice\u001B[0m\u001B[1;39;49m]\u001B[0m\u001B[39;49m A new release of pip is available: \u001B[0m\u001B[31;49m23.2.1\u001B[0m\u001B[39;49m -> \u001B[0m\u001B[32;49m24.1.1\u001B[0m\r\n",
      "\u001B[1m[\u001B[0m\u001B[34;49mnotice\u001B[0m\u001B[1;39;49m]\u001B[0m\u001B[39;49m To update, run: \u001B[0m\u001B[32;49mpip install --upgrade pip\u001B[0m\r\n"
     ]
    }
   ],
   "source": [
    "!pip install pydantic anytree networkx matplotlib inflect"
   ],
   "metadata": {
    "collapsed": false,
    "ExecuteTime": {
     "end_time": "2024-07-07T03:12:21.856787Z",
     "start_time": "2024-07-07T03:12:20.757600Z"
    }
   }
  },
  {
   "cell_type": "code",
   "execution_count": 39,
   "outputs": [],
   "source": [
    "import logging\n",
    "\n",
    "logging.basicConfig(level=logging.DEBUG, format='%(asctime)s - %(levelname)s - %(message)s')"
   ],
   "metadata": {
    "collapsed": false,
    "ExecuteTime": {
     "end_time": "2024-07-07T03:12:21.861183Z",
     "start_time": "2024-07-07T03:12:21.857709Z"
    }
   }
  },
  {
   "cell_type": "code",
   "execution_count": 40,
   "metadata": {
    "collapsed": true,
    "ExecuteTime": {
     "end_time": "2024-07-07T03:12:21.872570Z",
     "start_time": "2024-07-07T03:12:21.862288Z"
    }
   },
   "outputs": [],
   "source": [
    "# parse openapi\n",
    "import json\n",
    "\n",
    "def parse_spec(file_path):\n",
    "    with open(file_path, 'r') as file:\n",
    "        return json.load(file)"
   ]
  },
  {
   "cell_type": "code",
   "execution_count": 41,
   "outputs": [],
   "source": [
    "from pydantic import BaseModel\n",
    "from typing import List, Optional\n",
    "\n",
    "\n",
    "class GraphNode(BaseModel):\n",
    "    asset_name: str\n",
    "    dependent_assets: List[str]\n",
    "    inputs: List[str]\n",
    "    route: str\n",
    "    method: str\n",
    "    tag: Optional[str]\n"
   ],
   "metadata": {
    "collapsed": false,
    "ExecuteTime": {
     "end_time": "2024-07-07T03:12:21.872838Z",
     "start_time": "2024-07-07T03:12:21.866061Z"
    }
   }
  },
  {
   "cell_type": "code",
   "execution_count": 42,
   "outputs": [],
   "source": [
    "# helpers\n",
    "import re\n",
    "import json\n",
    "from collections import defaultdict\n",
    "import re\n",
    "from inflect import engine\n",
    "\n",
    "def resolve_schema_ref(spec, schema):\n",
    "    if isinstance(schema, dict):\n",
    "        if '$ref' in schema:\n",
    "            ref = schema['$ref']\n",
    "            parts = ref.split('/')\n",
    "            current = spec\n",
    "            for part in parts[1:]:  # Skip the first '#' part\n",
    "                current = current[part]\n",
    "            return resolve_schema_ref(spec, current)\n",
    "\n",
    "        resolved_schema = {}\n",
    "        for key, value in schema.items():\n",
    "            if key in ['oneOf', 'allOf', 'anyOf']:\n",
    "                resolved_schema[key] = [resolve_schema_ref(spec, item) for item in value]\n",
    "            elif isinstance(value, dict):\n",
    "                resolved_schema[key] = resolve_schema_ref(spec, value)\n",
    "            elif isinstance(value, list):\n",
    "                resolved_schema[key] = [resolve_schema_ref(spec, item) if isinstance(item, dict) else item for item in value]\n",
    "            else:\n",
    "                resolved_schema[key] = value\n",
    "        return resolved_schema\n",
    "    elif isinstance(schema, list):\n",
    "        return [resolve_schema_ref(spec, item) for item in schema]\n",
    "    else:\n",
    "        return schema\n",
    "\n",
    "def standardize_asset_name(name: str) -> str:\n",
    "    # Initialize inflect engine for handling plurals\n",
    "    p = engine()\n",
    "\n",
    "    # Convert to lowercase and replace underscores with dashes\n",
    "    name = name.lower().replace('_', '-')\n",
    "    name = name.lower().replace(' ', '-')\n",
    "\n",
    "    # Remove any non-alphanumeric characters (except dashes)\n",
    "    name = re.sub(r'[^a-z0-9-]', '', name)\n",
    "\n",
    "    # Split the name into parts\n",
    "    parts = name.split('-')\n",
    "\n",
    "    # Singularize each part\n",
    "    invariant_words = {'synthesis', 'analysis', 'basis', 'thesis'}\n",
    "\n",
    "    parts = [part if part in invariant_words else (p.singular_noun(part) or part) for part in parts]\n",
    "\n",
    "    # Join the parts back together\n",
    "    standardized_name = '-'.join(parts)\n",
    "\n",
    "    # Remove 'id' or 'ids' if it's at the end of the name\n",
    "    standardized_name = re.sub(r'-ids?$', '', standardized_name)\n",
    "    return standardized_name\n",
    "\n",
    "def get_last_route_segment(route: str) -> str:\n",
    "    # Split the route by '/' and get the last non-empty segment\n",
    "    segments = route.strip('/').split('/')\n",
    "    last_segment = segments[-1] if segments else ''\n",
    "\n",
    "    # If the last segment is surrounded by curly braces, remove them\n",
    "    return re.sub(r'^\\{(.*)\\}$', r'\\1', last_segment)\n",
    "\n",
    "def last_part_has_id(route: str) -> bool:\n",
    "    # Split the route into parts\n",
    "    parts = route.strip('/').split('/')\n",
    "\n",
    "    # Get the last part\n",
    "    last_part = parts[-1] if parts else ''\n",
    "\n",
    "    # Check if the last part is enclosed in curly braces or ends with '_id'\n",
    "    return bool(re.match(r'^\\{.*\\}$', last_part) or last_part.endswith('_id'))"
   ],
   "metadata": {
    "collapsed": false,
    "ExecuteTime": {
     "end_time": "2024-07-07T03:12:21.876140Z",
     "start_time": "2024-07-07T03:12:21.874587Z"
    }
   }
  },
  {
   "cell_type": "code",
   "execution_count": 43,
   "outputs": [],
   "source": [
    "\n",
    "def organize_resources(spec):\n",
    "    node_registry = {}\n",
    "\n",
    "    get_assets = set()\n",
    "    dependent_assets = set()\n",
    "    all_tags = set()\n",
    "\n",
    "    for path, methods in spec['paths'].items():\n",
    "        if last_part_has_id(path):\n",
    "            continue\n",
    "\n",
    "        for method, details in methods.items():\n",
    "            if method in [\"get\"]:\n",
    "                get_assets.add(standardize_asset_name(get_last_route_segment(path)))\n",
    "\n",
    "            if method not in [\"post\"] or last_part_has_id(path) : # maybe add `patch`\n",
    "                continue\n",
    "\n",
    "            tags = details.get(\"tags\")\n",
    "\n",
    "            dependents = set()\n",
    "            inputs = set()\n",
    "\n",
    "            bad_ids = [\"account_id\", \"x-selected-account-id\"]\n",
    "\n",
    "            def handle_properties(_properties):\n",
    "                for _input in _properties:\n",
    "                    handle_input(_input)\n",
    "\n",
    "\n",
    "            def handle_input(_input):\n",
    "                if \"id\" in _input and _input not in bad_ids:\n",
    "                    dependents.add(standardize_asset_name(_input))\n",
    "\n",
    "                inputs.add(_input)\n",
    "\n",
    "            # get ids from request body\n",
    "            body = details.get(\"requestBody\")\n",
    "            if body:\n",
    "                try:\n",
    "                    content = details[\"requestBody\"][\"content\"]\n",
    "                    pointer = content.get(\"application/json\", None)\n",
    "                    if not pointer:\n",
    "                        pointer = content[\"multipart/form-data\"]\n",
    "                    ref = pointer[\"schema\"]\n",
    "                    request_body_schema = resolve_schema_ref(spec, ref)\n",
    "\n",
    "                    # properties\n",
    "                    properties = request_body_schema.get(\"properties\", None)\n",
    "                    if properties:\n",
    "                        handle_properties(properties)\n",
    "\n",
    "                    # nestings\n",
    "                    nested_patterns = [\"allOf\", \"oneOf\"]\n",
    "                    for pat in nested_patterns:\n",
    "                        if pat in request_body_schema:\n",
    "                            for prop in request_body_schema[pat]:\n",
    "                                if prop.get(\"properties\", None):\n",
    "                                    handle_properties(prop[\"properties\"])\n",
    "\n",
    "                except Exception as e:\n",
    "                    print(f\"Error parsing request body {path}\", e)\n",
    "\n",
    "            # get ids from parameters\n",
    "            params = details.get(\"parameters\")\n",
    "\n",
    "            if params:\n",
    "                try:\n",
    "                    for param in params:\n",
    "                        if param.get(\"name\", None):\n",
    "                            name = param[\"name\"]\n",
    "                            handle_input(name)\n",
    "\n",
    "                except Exception as e:\n",
    "                    print(f\"Error parsing parameters {path}\", e)\n",
    "\n",
    "            # get ids from response\n",
    "            # responses = details.get(\"responses\")\n",
    "            #\n",
    "            # if responses:\n",
    "            #     try:\n",
    "            #         success_ref = responses[\"200\"][\"content\"][\"application/json\"][\"schema\"]\n",
    "            #         success_resp_schema = resolve_schema_ref(spec, success_ref)\n",
    "            #\n",
    "            #         properties = success_resp_schema.get(\"properties\", None)\n",
    "            #         if properties:\n",
    "            #             handle_properties(properties)\n",
    "            #\n",
    "            #     except Exception as e:\n",
    "            #         print(f\"Error parsing responses {path}\", e)\n",
    "\n",
    "            dependent_assets.update(dependents)\n",
    "\n",
    "            _tag = tags[0] if tags and len(tags) > 0 else None\n",
    "            all_tags.add(standardize_asset_name(_tag))\n",
    "\n",
    "            curr_asset = standardize_asset_name(get_last_route_segment(path))\n",
    "            new_node = GraphNode(\n",
    "                asset_name=curr_asset,\n",
    "                dependent_assets=list(dependents),\n",
    "                inputs=list(inputs),\n",
    "                route=path,\n",
    "                method=method,\n",
    "                tag=_tag,\n",
    "            )\n",
    "\n",
    "            if curr_asset not in node_registry:\n",
    "                node_registry[curr_asset] = new_node\n",
    "            elif len(node_registry[curr_asset].dependent_assets) < len(dependents):\n",
    "                node_registry[curr_asset] = new_node\n",
    "\n",
    "    # print(dependent_assets)\n",
    "    # print(get_assets)\n",
    "    # print(all_tags)\n",
    "    _nodes = list(node_registry.values())\n",
    "    real_nodes = []\n",
    "    for node in _nodes:\n",
    "        curr_asset = node.asset_name\n",
    "        if curr_asset in get_assets or curr_asset in dependent_assets or curr_asset in all_tags:\n",
    "            real_nodes.append(node)\n",
    "        else:\n",
    "            print(\"removing...\", node.asset_name)\n",
    "\n",
    "    return real_nodes"
   ],
   "metadata": {
    "collapsed": false,
    "ExecuteTime": {
     "end_time": "2024-07-07T03:12:21.884275Z",
     "start_time": "2024-07-07T03:12:21.882073Z"
    }
   }
  },
  {
   "cell_type": "code",
   "execution_count": 44,
   "outputs": [],
   "source": [
    "from typing import List, Dict\n",
    "import networkx as nx\n",
    "\n",
    "\n",
    "def build_dependency_tree(_nodes: List[GraphNode]):\n",
    "    _graph = nx.DiGraph()  # Directed graph allows a child to have multiple parents\n",
    "\n",
    "    # Create all nodes\n",
    "    for graph_node in _nodes:\n",
    "        _graph.add_node(graph_node.asset_name)\n",
    "\n",
    "    # Create edges based on dependencies\n",
    "    for graph_node in _nodes:\n",
    "        for dependent_asset in graph_node.dependent_assets:\n",
    "            _graph.add_edge(dependent_asset, graph_node.asset_name)\n",
    "        # print(\"-\" * 50)\n",
    "        # print(graph_node.asset_name)\n",
    "        # print(\"children:\", graph_node.dependent_assets)\n",
    "\n",
    "    return _graph"
   ],
   "metadata": {
    "collapsed": false,
    "ExecuteTime": {
     "end_time": "2024-07-07T03:12:21.898996Z",
     "start_time": "2024-07-07T03:12:21.884945Z"
    }
   }
  },
  {
   "cell_type": "code",
   "execution_count": 45,
   "outputs": [
    {
     "name": "stdout",
     "output_type": "stream",
     "text": [
      "removing... query\n",
      "removing... delete\n",
      "removing... cancel\n",
      "removing... verify\n",
      "removing... rank\n",
      "removing... synthesis\n",
      "removing... execute\n",
      "removing... embedding\n",
      "removing... reranking\n",
      "removing... claim-task\n",
      "removing... batch\n",
      "removing... approve\n",
      "removing... publish\n",
      "removing... approve-batch\n",
      "removing... proces\n",
      "removing... validate\n"
     ]
    }
   ],
   "source": [
    "spec = parse_spec('v4-sgp-spec-07-04-2024.json')\n",
    "nodes = organize_resources(spec)\n",
    "\n",
    "graph = build_dependency_tree(nodes)"
   ],
   "metadata": {
    "collapsed": false,
    "ExecuteTime": {
     "end_time": "2024-07-07T03:12:21.923979Z",
     "start_time": "2024-07-07T03:12:21.886638Z"
    }
   }
  },
  {
   "cell_type": "code",
   "execution_count": 46,
   "outputs": [
    {
     "name": "stdout",
     "output_type": "stream",
     "text": [
      "Tree for upload:\n",
      "upload\n",
      "└── knowledge-base\n",
      "\n",
      "========================================\n",
      "Tree for completion:\n",
      "completion\n",
      "└── model-deployment\n",
      "\n",
      "========================================\n",
      "Tree for chat-completion:\n",
      "chat-completion\n",
      "└── model-deployment\n",
      "\n",
      "========================================\n",
      "Tree for deployment:\n",
      "deployment\n",
      "└── model-instance\n",
      "\n",
      "========================================\n",
      "Tree for account:\n",
      "account\n",
      "\n",
      "========================================\n",
      "Tree for evaluation-dataset-version:\n",
      "evaluation-dataset-version\n",
      "└── evaluation-dataset\n",
      "    └── knowledge-base\n",
      "\n",
      "========================================\n",
      "Tree for test-case-result:\n",
      "test-case-result\n",
      "├── test-case\n",
      "│   └── evaluation-dataset\n",
      "│       └── knowledge-base\n",
      "├── annotated-by-user\n",
      "└── evaluation\n",
      "    ├── application-variant\n",
      "    │   └── application-spec\n",
      "    │       └── theme\n",
      "    └── evaluation-config\n",
      "        ├── studio-project\n",
      "        └── question-set\n",
      "            └── question\n",
      "\n",
      "========================================\n",
      "Tree for upload-schedule:\n",
      "upload-schedule\n",
      "├── knowledge-base-datum-source\n",
      "└── knowledge-base\n",
      "\n",
      "========================================\n",
      "Tree for autogenerated-draft-test-case:\n",
      "autogenerated-draft-test-case\n",
      "└── evaluation-dataset\n",
      "    └── knowledge-base\n",
      "\n",
      "========================================\n",
      "Tree for generation-job:\n",
      "generation-job\n",
      "└── evaluation-dataset\n",
      "    └── knowledge-base\n",
      "\n",
      "========================================\n",
      "Tree for model:\n",
      "model\n",
      "├── model-template\n",
      "├── base-model\n",
      "└── model-group\n",
      "\n",
      "========================================\n",
      "Tree for fine-tuning-job:\n",
      "fine-tuning-job\n",
      "├── training-dataset\n",
      "├── base-model\n",
      "├── fine-tuned-model\n",
      "└── validation-dataset\n",
      "\n",
      "========================================\n",
      "Tree for application-deployment:\n",
      "application-deployment\n",
      "└── application-variant\n",
      "    └── application-spec\n",
      "        └── theme\n",
      "\n",
      "========================================\n",
      "Tree for application-variant-report:\n",
      "application-variant-report\n",
      "├── application-variant\n",
      "│   └── application-spec\n",
      "│       └── theme\n",
      "└── evaluation-dataset\n",
      "    └── knowledge-base\n",
      "\n",
      "========================================\n",
      "Tree for thread:\n",
      "thread\n",
      "└── application-variant\n",
      "    └── application-spec\n",
      "        └── theme\n",
      "\n",
      "========================================\n"
     ]
    }
   ],
   "source": [
    "# Dictionary to store anytree nodes\n",
    "from anytree import Node, RenderTree\n",
    "\n",
    "# Dictionary to store anytree nodes\n",
    "nodes_dict = defaultdict(lambda: None)\n",
    "sink_nodes = [node for node in graph.nodes() if graph.out_degree(node) == 0]\n",
    "\n",
    "# Function to build the tree using anytree\n",
    "def build_tree_for_node(_graph, _node):\n",
    "    # Initialize the root node for the tree\n",
    "    _root = Node(_node)\n",
    "    nodes_dict[_node] = _root\n",
    "    # Use a stack for DFS\n",
    "    stack = [_node]\n",
    "    visited = set()\n",
    "\n",
    "    while stack:\n",
    "        node = stack.pop()\n",
    "        if node not in visited:\n",
    "            visited.add(node)\n",
    "            for pred in _graph.predecessors(node):\n",
    "                if pred not in nodes_dict:\n",
    "                    nodes_dict[pred] = Node(pred, parent=nodes_dict[node])\n",
    "                else:\n",
    "                    nodes_dict[pred].parent = nodes_dict[node]\n",
    "                stack.append(pred)\n",
    "    return _root\n",
    "\n",
    "\n",
    "def print_tree(_root: Node):\n",
    "    print(f\"Tree for {sink_node}:\")\n",
    "    for pre, _, node in RenderTree(_root):\n",
    "        print(\"%s%s\" % (pre, node.name))\n",
    "\n",
    "# Visualize trees for each sink node\n",
    "for sink_node in sink_nodes:\n",
    "    root = build_tree_for_node(graph, sink_node)\n",
    "    print_tree(root)\n",
    "    print(\"\\n\" + \"=\"*40)  # Separator between trees"
   ],
   "metadata": {
    "collapsed": false,
    "ExecuteTime": {
     "end_time": "2024-07-07T03:12:21.924181Z",
     "start_time": "2024-07-07T03:12:21.915569Z"
    }
   }
  },
  {
   "cell_type": "code",
   "execution_count": 47,
   "outputs": [
    {
     "data": {
      "text/plain": "['knowledge-base',\n 'upload',\n 'completion',\n 'chat-completion',\n 'deployment',\n 'account',\n 'evaluation-config',\n 'evaluation-dataset',\n 'evaluation-dataset-version',\n 'test-case',\n 'studio-project',\n 'application-spec',\n 'evaluation',\n 'test-case-result',\n 'question',\n 'question-set',\n 'knowledge-base-datum-source',\n 'upload-schedule',\n 'autogenerated-draft-test-case',\n 'generation-job',\n 'model',\n 'model-group',\n 'model-template',\n 'fine-tuning-job',\n 'training-dataset',\n 'application-variant',\n 'application-deployment',\n 'application-variant-report',\n 'thread',\n 'theme',\n 'model-deployment',\n 'model-instance',\n 'annotated-by-user',\n 'base-model',\n 'fine-tuned-model',\n 'validation-dataset']"
     },
     "execution_count": 47,
     "metadata": {},
     "output_type": "execute_result"
    }
   ],
   "source": [
    "node_assets = [str(node) for node in graph.nodes()]\n",
    "node_assets"
   ],
   "metadata": {
    "collapsed": false,
    "ExecuteTime": {
     "end_time": "2024-07-07T03:12:21.924355Z",
     "start_time": "2024-07-07T03:12:21.917953Z"
    }
   }
  },
  {
   "cell_type": "code",
   "execution_count": 48,
   "outputs": [
    {
     "name": "stdout",
     "output_type": "stream",
     "text": [
      "Tree for thread:\n",
      "evaluation\n",
      "├── application-variant\n",
      "│   └── application-spec\n",
      "│       └── theme\n",
      "├── evaluation-dataset\n",
      "│   └── knowledge-base\n",
      "└── evaluation-config\n",
      "    ├── studio-project\n",
      "    └── question-set\n",
      "        └── question\n",
      "None\n"
     ]
    }
   ],
   "source": [
    "asset_tree = build_tree_for_node(graph, \"evaluation\")\n",
    "\n",
    "print(print_tree(asset_tree))"
   ],
   "metadata": {
    "collapsed": false,
    "ExecuteTime": {
     "end_time": "2024-07-07T03:12:21.924454Z",
     "start_time": "2024-07-07T03:12:21.920486Z"
    }
   }
  },
  {
   "cell_type": "code",
   "execution_count": 48,
   "outputs": [],
   "source": [],
   "metadata": {
    "collapsed": false,
    "ExecuteTime": {
     "end_time": "2024-07-07T03:12:21.924517Z",
     "start_time": "2024-07-07T03:12:21.922329Z"
    }
   }
  }
 ],
 "metadata": {
  "kernelspec": {
   "display_name": "Python 3",
   "language": "python",
   "name": "python3"
  },
  "language_info": {
   "codemirror_mode": {
    "name": "ipython",
    "version": 2
   },
   "file_extension": ".py",
   "mimetype": "text/x-python",
   "name": "python",
   "nbconvert_exporter": "python",
   "pygments_lexer": "ipython2",
   "version": "2.7.6"
  }
 },
 "nbformat": 4,
 "nbformat_minor": 0
}
