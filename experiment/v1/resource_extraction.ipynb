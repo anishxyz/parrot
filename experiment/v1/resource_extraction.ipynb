{
 "cells": [
  {
   "cell_type": "code",
   "id": "initial_id",
   "metadata": {
    "collapsed": true,
    "ExecuteTime": {
     "end_time": "2024-09-23T04:59:00.335625Z",
     "start_time": "2024-09-23T04:58:58.057476Z"
    }
   },
   "source": "!pip install pydantic anytree networkx matplotlib inflect openapi-core jsonref prance datamodel-code-generator",
   "outputs": [
    {
     "name": "stdout",
     "output_type": "stream",
     "text": [
      "Requirement already satisfied: pydantic in /Users/anishagrawal/Desktop/Development/parrot/venv/lib/python3.11/site-packages (2.8.2)\r\n",
      "Requirement already satisfied: anytree in /Users/anishagrawal/Desktop/Development/parrot/venv/lib/python3.11/site-packages (2.12.1)\r\n",
      "Requirement already satisfied: networkx in /Users/anishagrawal/Desktop/Development/parrot/venv/lib/python3.11/site-packages (3.3)\r\n",
      "Requirement already satisfied: matplotlib in /Users/anishagrawal/Desktop/Development/parrot/venv/lib/python3.11/site-packages (3.9.1)\r\n",
      "Requirement already satisfied: inflect in /Users/anishagrawal/Desktop/Development/parrot/venv/lib/python3.11/site-packages (5.6.2)\r\n",
      "Requirement already satisfied: openapi-core in /Users/anishagrawal/Desktop/Development/parrot/venv/lib/python3.11/site-packages (0.19.2)\r\n",
      "Requirement already satisfied: jsonref in /Users/anishagrawal/Desktop/Development/parrot/venv/lib/python3.11/site-packages (1.1.0)\r\n",
      "Requirement already satisfied: prance in /Users/anishagrawal/Desktop/Development/parrot/venv/lib/python3.11/site-packages (23.6.21.0)\r\n",
      "Requirement already satisfied: datamodel-code-generator in /Users/anishagrawal/Desktop/Development/parrot/venv/lib/python3.11/site-packages (0.26.0)\r\n",
      "Requirement already satisfied: annotated-types>=0.4.0 in /Users/anishagrawal/Desktop/Development/parrot/venv/lib/python3.11/site-packages (from pydantic) (0.7.0)\r\n",
      "Requirement already satisfied: pydantic-core==2.20.1 in /Users/anishagrawal/Desktop/Development/parrot/venv/lib/python3.11/site-packages (from pydantic) (2.20.1)\r\n",
      "Requirement already satisfied: typing-extensions>=4.6.1 in /Users/anishagrawal/Desktop/Development/parrot/venv/lib/python3.11/site-packages (from pydantic) (4.12.2)\r\n",
      "Requirement already satisfied: six in /Users/anishagrawal/Desktop/Development/parrot/venv/lib/python3.11/site-packages (from anytree) (1.16.0)\r\n",
      "Requirement already satisfied: contourpy>=1.0.1 in /Users/anishagrawal/Desktop/Development/parrot/venv/lib/python3.11/site-packages (from matplotlib) (1.2.1)\r\n",
      "Requirement already satisfied: cycler>=0.10 in /Users/anishagrawal/Desktop/Development/parrot/venv/lib/python3.11/site-packages (from matplotlib) (0.12.1)\r\n",
      "Requirement already satisfied: fonttools>=4.22.0 in /Users/anishagrawal/Desktop/Development/parrot/venv/lib/python3.11/site-packages (from matplotlib) (4.53.1)\r\n",
      "Requirement already satisfied: kiwisolver>=1.3.1 in /Users/anishagrawal/Desktop/Development/parrot/venv/lib/python3.11/site-packages (from matplotlib) (1.4.5)\r\n",
      "Requirement already satisfied: numpy>=1.23 in /Users/anishagrawal/Desktop/Development/parrot/venv/lib/python3.11/site-packages (from matplotlib) (2.0.0)\r\n",
      "Requirement already satisfied: packaging>=20.0 in /Users/anishagrawal/Desktop/Development/parrot/venv/lib/python3.11/site-packages (from matplotlib) (24.1)\r\n",
      "Requirement already satisfied: pillow>=8 in /Users/anishagrawal/Desktop/Development/parrot/venv/lib/python3.11/site-packages (from matplotlib) (10.4.0)\r\n",
      "Requirement already satisfied: pyparsing>=2.3.1 in /Users/anishagrawal/Desktop/Development/parrot/venv/lib/python3.11/site-packages (from matplotlib) (3.1.2)\r\n",
      "Requirement already satisfied: python-dateutil>=2.7 in /Users/anishagrawal/Desktop/Development/parrot/venv/lib/python3.11/site-packages (from matplotlib) (2.9.0.post0)\r\n",
      "Requirement already satisfied: isodate in /Users/anishagrawal/Desktop/Development/parrot/venv/lib/python3.11/site-packages (from openapi-core) (0.6.1)\r\n",
      "Requirement already satisfied: jsonschema<5.0.0,>=4.18.0 in /Users/anishagrawal/Desktop/Development/parrot/venv/lib/python3.11/site-packages (from openapi-core) (4.22.0)\r\n",
      "Requirement already satisfied: jsonschema-path<0.4.0,>=0.3.1 in /Users/anishagrawal/Desktop/Development/parrot/venv/lib/python3.11/site-packages (from openapi-core) (0.3.3)\r\n",
      "Requirement already satisfied: more-itertools in /Users/anishagrawal/Desktop/Development/parrot/venv/lib/python3.11/site-packages (from openapi-core) (10.3.0)\r\n",
      "Requirement already satisfied: openapi-schema-validator<0.7.0,>=0.6.0 in /Users/anishagrawal/Desktop/Development/parrot/venv/lib/python3.11/site-packages (from openapi-core) (0.6.2)\r\n",
      "Requirement already satisfied: openapi-spec-validator<0.8.0,>=0.7.1 in /Users/anishagrawal/Desktop/Development/parrot/venv/lib/python3.11/site-packages (from openapi-core) (0.7.1)\r\n",
      "Requirement already satisfied: parse in /Users/anishagrawal/Desktop/Development/parrot/venv/lib/python3.11/site-packages (from openapi-core) (1.20.2)\r\n",
      "Requirement already satisfied: werkzeug in /Users/anishagrawal/Desktop/Development/parrot/venv/lib/python3.11/site-packages (from openapi-core) (3.0.3)\r\n",
      "Requirement already satisfied: chardet>=3.0 in /Users/anishagrawal/Desktop/Development/parrot/venv/lib/python3.11/site-packages (from prance) (5.2.0)\r\n",
      "Requirement already satisfied: ruamel.yaml>=0.17.10 in /Users/anishagrawal/Desktop/Development/parrot/venv/lib/python3.11/site-packages (from prance) (0.18.6)\r\n",
      "Requirement already satisfied: requests>=2.25 in /Users/anishagrawal/Desktop/Development/parrot/venv/lib/python3.11/site-packages (from prance) (2.32.3)\r\n",
      "Requirement already satisfied: argcomplete<4.0,>=1.10 in /Users/anishagrawal/Desktop/Development/parrot/venv/lib/python3.11/site-packages (from datamodel-code-generator) (3.5.0)\r\n",
      "Requirement already satisfied: black>=19.10b0 in /Users/anishagrawal/Desktop/Development/parrot/venv/lib/python3.11/site-packages (from datamodel-code-generator) (24.8.0)\r\n",
      "Requirement already satisfied: genson<2.0,>=1.2.1 in /Users/anishagrawal/Desktop/Development/parrot/venv/lib/python3.11/site-packages (from datamodel-code-generator) (1.3.0)\r\n",
      "Requirement already satisfied: isort<6.0,>=4.3.21 in /Users/anishagrawal/Desktop/Development/parrot/venv/lib/python3.11/site-packages (from datamodel-code-generator) (5.13.2)\r\n",
      "Requirement already satisfied: jinja2<4.0,>=2.10.1 in /Users/anishagrawal/Desktop/Development/parrot/venv/lib/python3.11/site-packages (from datamodel-code-generator) (3.1.4)\r\n",
      "Requirement already satisfied: pyyaml>=6.0.1 in /Users/anishagrawal/Desktop/Development/parrot/venv/lib/python3.11/site-packages (from datamodel-code-generator) (6.0.1)\r\n",
      "Requirement already satisfied: click>=8.0.0 in /Users/anishagrawal/Desktop/Development/parrot/venv/lib/python3.11/site-packages (from black>=19.10b0->datamodel-code-generator) (8.1.7)\r\n",
      "Requirement already satisfied: mypy-extensions>=0.4.3 in /Users/anishagrawal/Desktop/Development/parrot/venv/lib/python3.11/site-packages (from black>=19.10b0->datamodel-code-generator) (1.0.0)\r\n",
      "Requirement already satisfied: pathspec>=0.9.0 in /Users/anishagrawal/Desktop/Development/parrot/venv/lib/python3.11/site-packages (from black>=19.10b0->datamodel-code-generator) (0.12.1)\r\n",
      "Requirement already satisfied: platformdirs>=2 in /Users/anishagrawal/Desktop/Development/parrot/venv/lib/python3.11/site-packages (from black>=19.10b0->datamodel-code-generator) (4.2.2)\r\n",
      "Requirement already satisfied: MarkupSafe>=2.0 in /Users/anishagrawal/Desktop/Development/parrot/venv/lib/python3.11/site-packages (from jinja2<4.0,>=2.10.1->datamodel-code-generator) (2.1.5)\r\n",
      "Requirement already satisfied: attrs>=22.2.0 in /Users/anishagrawal/Desktop/Development/parrot/venv/lib/python3.11/site-packages (from jsonschema<5.0.0,>=4.18.0->openapi-core) (23.2.0)\r\n",
      "Requirement already satisfied: jsonschema-specifications>=2023.03.6 in /Users/anishagrawal/Desktop/Development/parrot/venv/lib/python3.11/site-packages (from jsonschema<5.0.0,>=4.18.0->openapi-core) (2023.12.1)\r\n",
      "Requirement already satisfied: referencing>=0.28.4 in /Users/anishagrawal/Desktop/Development/parrot/venv/lib/python3.11/site-packages (from jsonschema<5.0.0,>=4.18.0->openapi-core) (0.35.1)\r\n",
      "Requirement already satisfied: rpds-py>=0.7.1 in /Users/anishagrawal/Desktop/Development/parrot/venv/lib/python3.11/site-packages (from jsonschema<5.0.0,>=4.18.0->openapi-core) (0.18.1)\r\n",
      "Requirement already satisfied: pathable<0.5.0,>=0.4.1 in /Users/anishagrawal/Desktop/Development/parrot/venv/lib/python3.11/site-packages (from jsonschema-path<0.4.0,>=0.3.1->openapi-core) (0.4.3)\r\n",
      "Requirement already satisfied: rfc3339-validator in /Users/anishagrawal/Desktop/Development/parrot/venv/lib/python3.11/site-packages (from openapi-schema-validator<0.7.0,>=0.6.0->openapi-core) (0.1.4)\r\n",
      "Requirement already satisfied: lazy-object-proxy<2.0.0,>=1.7.1 in /Users/anishagrawal/Desktop/Development/parrot/venv/lib/python3.11/site-packages (from openapi-spec-validator<0.8.0,>=0.7.1->openapi-core) (1.10.0)\r\n",
      "Requirement already satisfied: email-validator>=2.0.0 in /Users/anishagrawal/Desktop/Development/parrot/venv/lib/python3.11/site-packages (from pydantic) (2.2.0)\r\n",
      "Requirement already satisfied: charset-normalizer<4,>=2 in /Users/anishagrawal/Desktop/Development/parrot/venv/lib/python3.11/site-packages (from requests>=2.25->prance) (3.3.2)\r\n",
      "Requirement already satisfied: idna<4,>=2.5 in /Users/anishagrawal/Desktop/Development/parrot/venv/lib/python3.11/site-packages (from requests>=2.25->prance) (3.7)\r\n",
      "Requirement already satisfied: urllib3<3,>=1.21.1 in /Users/anishagrawal/Desktop/Development/parrot/venv/lib/python3.11/site-packages (from requests>=2.25->prance) (2.2.2)\r\n",
      "Requirement already satisfied: certifi>=2017.4.17 in /Users/anishagrawal/Desktop/Development/parrot/venv/lib/python3.11/site-packages (from requests>=2.25->prance) (2024.7.4)\r\n",
      "Requirement already satisfied: ruamel.yaml.clib>=0.2.7 in /Users/anishagrawal/Desktop/Development/parrot/venv/lib/python3.11/site-packages (from ruamel.yaml>=0.17.10->prance) (0.2.8)\r\n",
      "Requirement already satisfied: dnspython>=2.0.0 in /Users/anishagrawal/Desktop/Development/parrot/venv/lib/python3.11/site-packages (from email-validator>=2.0.0->pydantic) (2.6.1)\r\n",
      "\r\n",
      "\u001B[1m[\u001B[0m\u001B[34;49mnotice\u001B[0m\u001B[1;39;49m]\u001B[0m\u001B[39;49m A new release of pip available: \u001B[0m\u001B[31;49m22.3.1\u001B[0m\u001B[39;49m -> \u001B[0m\u001B[32;49m24.2\u001B[0m\r\n",
      "\u001B[1m[\u001B[0m\u001B[34;49mnotice\u001B[0m\u001B[1;39;49m]\u001B[0m\u001B[39;49m To update, run: \u001B[0m\u001B[32;49mpip install --upgrade pip\u001B[0m\r\n"
     ]
    }
   ],
   "execution_count": 353
  },
  {
   "metadata": {
    "ExecuteTime": {
     "end_time": "2024-09-23T04:59:00.339933Z",
     "start_time": "2024-09-23T04:59:00.337586Z"
    }
   },
   "cell_type": "code",
   "source": [
    "import logging\n",
    "\n",
    "logging.basicConfig(level=logging.DEBUG, format='%(asctime)s - %(levelname)s - %(message)s')"
   ],
   "id": "e5ece1630b092446",
   "outputs": [],
   "execution_count": 354
  },
  {
   "metadata": {
    "ExecuteTime": {
     "end_time": "2024-09-23T04:59:00.343751Z",
     "start_time": "2024-09-23T04:59:00.340889Z"
    }
   },
   "cell_type": "code",
   "source": [
    "import json\n",
    "\n",
    "def parse_spec(file_path):\n",
    "    with open(file_path, 'r') as file:\n",
    "        return json.load(file)"
   ],
   "id": "78ac318cbef9152b",
   "outputs": [],
   "execution_count": 355
  },
  {
   "metadata": {
    "ExecuteTime": {
     "end_time": "2024-09-23T04:59:00.481747Z",
     "start_time": "2024-09-23T04:59:00.345822Z"
    }
   },
   "cell_type": "code",
   "source": [
    "# filepath = \"../openapi_specs/resolved/stripe-08-10-24.json\"\n",
    "filepath = \"../openapi_specs/resolved/sgp-09-21-24.json\"\n",
    "\n",
    "spec = parse_spec(filepath)"
   ],
   "id": "c9a6933c07023dd1",
   "outputs": [],
   "execution_count": 356
  },
  {
   "metadata": {
    "ExecuteTime": {
     "end_time": "2024-09-23T04:59:00.483886Z",
     "start_time": "2024-09-23T04:59:00.482389Z"
    }
   },
   "cell_type": "code",
   "source": "# !datamodel-codegen  --input \"../openapi_specs/stripe-08-10-24.yaml\" --input-file-type openapi --output model.py",
   "id": "eefd77c73f929a90",
   "outputs": [],
   "execution_count": 357
  },
  {
   "metadata": {
    "ExecuteTime": {
     "end_time": "2024-09-23T04:59:00.486120Z",
     "start_time": "2024-09-23T04:59:00.484586Z"
    }
   },
   "cell_type": "code",
   "source": "resource_blacklist = ['delete', 'query', 'cancel', 'batch', 'verify', 'process', 'validate', 'approve', 'publish', 'history', 'approve-batch', 'batch-delete']",
   "id": "e7b562e16cf31b7e",
   "outputs": [],
   "execution_count": 358
  },
  {
   "metadata": {
    "ExecuteTime": {
     "end_time": "2024-09-23T04:59:00.488945Z",
     "start_time": "2024-09-23T04:59:00.486698Z"
    }
   },
   "cell_type": "code",
   "source": [
    "import re\n",
    "from inflect import engine\n",
    "\n",
    "\n",
    "def standardize(name: str) -> str:\n",
    "    # ignored words for singularization\n",
    "    invariant_words = {'synthesis', 'analysis', 'basis', 'thesis'}\n",
    "\n",
    "    # Convert to lowercase, kebab case\n",
    "    name = name.lower().replace('_', '-')\n",
    "    name = name.lower().replace(' ', '-')\n",
    "    name = re.sub(r'[^a-z0-9-]', '', name)\n",
    "    parts = name.split('-')\n",
    "\n",
    "    # singularize\n",
    "    p = engine()\n",
    "    parts = [part if part in invariant_words else (p.singular_noun(part) or part) for part in parts]\n",
    "\n",
    "    standardized_name = '-'.join(parts)\n",
    "    standardized_name = re.sub(r'-ids?$', '', standardized_name) # strip id\n",
    "    return standardized_name"
   ],
   "id": "6967f059ec1caea5",
   "outputs": [],
   "execution_count": 359
  },
  {
   "metadata": {
    "ExecuteTime": {
     "end_time": "2024-09-23T04:59:00.493395Z",
     "start_time": "2024-09-23T04:59:00.489456Z"
    }
   },
   "cell_type": "code",
   "source": [
    "from pydantic import BaseModel\n",
    "from collections import defaultdict\n",
    "\n",
    "\n",
    "class RouteMethodDescription(BaseModel):\n",
    "    method: str\n",
    "    description: str\n",
    "\n",
    "\n",
    "# fetch all resources\n",
    "def extract_resources(openapi: dict):\n",
    "    resource_to_routes = defaultdict()  # resource -> {paths} -> {methods} -> description\n",
    "\n",
    "    for path, methods in openapi['paths'].items():\n",
    "        # not a _real_ resource\n",
    "        if 'get' not in methods.keys() and 'post' not in methods.keys():\n",
    "            continue\n",
    "            \n",
    "        # if path == '/v4/evaluation-datasets/{evaluation_dataset_id}/test-cases':\n",
    "        #     print(methods['post']['parameters'])\n",
    "\n",
    "        # find current resource  \n",
    "        def find_last_unwrapped_element(path_list):\n",
    "            for element in reversed(path_list):\n",
    "                if not (element.startswith('{') and element.endswith('}')):\n",
    "                    return element\n",
    "            return None\n",
    "\n",
    "        resource = find_last_unwrapped_element(path.split('/'))\n",
    "\n",
    "        if not resource:\n",
    "            continue\n",
    "        \n",
    "        resource = standardize(resource)\n",
    "        \n",
    "        if resource in resource_blacklist:\n",
    "            continue\n",
    "        \n",
    "        if resource not in resource_to_routes:\n",
    "            resource_to_routes[resource] = {}\n",
    "\n",
    "        resource_to_routes[resource][path] = {}\n",
    "\n",
    "        for m, v in methods.items():\n",
    "            resource_to_routes[resource][path][m] = v.get('description')\n",
    "\n",
    "    return resource_to_routes"
   ],
   "id": "5a180440004eaead",
   "outputs": [],
   "execution_count": 360
  },
  {
   "metadata": {
    "ExecuteTime": {
     "end_time": "2024-09-23T04:59:00.500103Z",
     "start_time": "2024-09-23T04:59:00.494009Z"
    }
   },
   "cell_type": "code",
   "source": [
    "extraction = extract_resources(spec)\n",
    "resources = extraction.keys()\n",
    "\n",
    "resources"
   ],
   "id": "71e56fcef8316e2b",
   "outputs": [
    {
     "data": {
      "text/plain": [
       "dict_keys(['knowledge-base', 'async-job', 'chunk', 'upload-file', 'upload', 'artifact', 'rank', 'synthesis', 'execute', 'completion', 'chat-completion', 'embedding', 'reranking', 'deployment', 'usage-statistic', 'model-deployment', 'model', 'user-info', 'user', 'account', 'question-set', 'claim-task', 'contributor-metric', 'evaluation-metric', 'hybrid-eval-metric', 'evaluation-config', 'evaluation-dataset', 'evaluation-dataset-version', 'test-case', 'studio-project', 'application-spec', 'evaluation', 'test-case-result', 'question', 'knowledge-base-datum-source', 'upload-schedule', 'autogenerated-draft-test-case', 'generation-job', 'model-group', 'model-template', 'fine-tuning-job', 'event', 'training-dataset', 'content', 'install', 'copy-to-control-plane-hook', 'install-async', 'application-variant', 'application-deployment', 'application-variant-report', 'application-test-case-output', 'application-with-variant', 'application-schema', 'proces', 'thread', 'message', 'dashboard', 'scalar', 'timesery', 'theme'])"
      ]
     },
     "execution_count": 361,
     "metadata": {},
     "output_type": "execute_result"
    }
   ],
   "execution_count": 361
  },
  {
   "metadata": {
    "ExecuteTime": {
     "end_time": "2024-09-23T05:00:35.391789Z",
     "start_time": "2024-09-23T05:00:35.389687Z"
    }
   },
   "cell_type": "code",
   "source": "print(extraction['thread'])",
   "id": "f2bc1b57855237a9",
   "outputs": [
    {
     "name": "stdout",
     "output_type": "stream",
     "text": [
      "{'/v4/applications/{application_variant_id}/threads': {'get': None, 'post': None}}\n"
     ]
    }
   ],
   "execution_count": 376
  },
  {
   "metadata": {
    "ExecuteTime": {
     "end_time": "2024-09-23T04:59:00.507178Z",
     "start_time": "2024-09-23T04:59:00.502111Z"
    }
   },
   "cell_type": "code",
   "source": [
    "from typing import List, Tuple\n",
    "\n",
    "\n",
    "# GOAL: create resource dependency tree\n",
    "# Thesis: to create a resource you need to do POST, dependents are ids and other resource names\n",
    "\n",
    "def organize_resources(openapi):\n",
    "    edges = [] # list(parent, child)\n",
    "\n",
    "    for path, methods in openapi['paths'].items():\n",
    "        # not a _real_ resource\n",
    "        if 'post' not in methods.keys():\n",
    "            continue\n",
    "        \n",
    "        path_list = path.split('/')\n",
    "        \n",
    "        # edges from path structure\n",
    "        flag = None\n",
    "        for p in path_list:\n",
    "            pf = standardize(p)\n",
    "            if pf in resources and flag:\n",
    "                edges.append((pf, flag))\n",
    "                # pass\n",
    "            if pf in resources:\n",
    "                flag = pf    \n",
    "        \n",
    "        if flag is None:\n",
    "            continue\n",
    "            \n",
    "        # edges from request shape\n",
    "        def extract_param_names(obj) -> List[str]:\n",
    "            param_names = []\n",
    "            \n",
    "            def recursive_extract(current_obj):\n",
    "                if isinstance(current_obj, dict):\n",
    "                    if 'properties' in current_obj:\n",
    "                        param_names.extend(current_obj['properties'].keys())\n",
    "                    else:\n",
    "                        for value in current_obj.values():\n",
    "                            recursive_extract(value)\n",
    "                elif isinstance(current_obj, list):\n",
    "                    for item in current_obj:\n",
    "                        recursive_extract(item)\n",
    "            \n",
    "            recursive_extract(obj)\n",
    "            return list(set(param_names))\n",
    "        \n",
    "        def is_in_main_list(string, main_list):\n",
    "            return string in main_list\n",
    "        \n",
    "        def filter_strings(main_list, filter_list):\n",
    "            conditions = [\n",
    "                is_in_main_list,\n",
    "            ]\n",
    "            \n",
    "            return [\n",
    "                string for string in filter_list \n",
    "                if any(condition(string, main_list) for condition in conditions)\n",
    "            ]\n",
    "        \n",
    "        params = []\n",
    "        if 'requestBody' in methods['post']:\n",
    "            params.extend(extract_param_names(methods['post']['requestBody']))\n",
    "        if 'parameters' in methods['post']:\n",
    "            params.extend(extract_param_names(methods['post']['parameters']))\n",
    "        if not params:\n",
    "            params = extract_param_names(methods['post'])\n",
    "        \n",
    "        params = [standardize(p) for p in params]\n",
    "        for r in filter_strings(params, resources):\n",
    "            edges.append((flag, r))\n",
    "    \n",
    "    def clean_edges(inp_e: List[Tuple[str, str]]) -> List[Tuple[str, str]]:\n",
    "        return [(e1, e2) for e1, e2 in inp_e if e1 and e2 and e1 != e2]\n",
    "    \n",
    "    return clean_edges(edges)"
   ],
   "id": "db15b0e525a2a2d3",
   "outputs": [],
   "execution_count": 362
  },
  {
   "metadata": {
    "ExecuteTime": {
     "end_time": "2024-09-23T04:59:00.530606Z",
     "start_time": "2024-09-23T04:59:00.507967Z"
    }
   },
   "cell_type": "code",
   "source": [
    "edgs = organize_resources(spec)\n",
    "edgs = list(set(edgs))\n",
    "\n",
    "edgs"
   ],
   "id": "3d53c4e83004cf3f",
   "outputs": [
    {
     "data": {
      "text/plain": [
       "[('theme', 'account'),\n",
       " ('evaluation-dataset-version', 'account'),\n",
       " ('claim-task', 'evaluation'),\n",
       " ('test-case', 'account'),\n",
       " ('studio-project', 'account'),\n",
       " ('upload-schedule', 'knowledge-base-datum-source'),\n",
       " ('deployment', 'account'),\n",
       " ('thread', 'application-variant'),\n",
       " ('test-case-result', 'application-spec'),\n",
       " ('application-deployment', 'application-variant'),\n",
       " ('evaluation', 'application-spec'),\n",
       " ('proces', 'thread'),\n",
       " ('test-case-result', 'evaluation'),\n",
       " ('chat-completion', 'message'),\n",
       " ('artifact', 'knowledge-base'),\n",
       " ('embedding', 'model-deployment'),\n",
       " ('training-dataset', 'account'),\n",
       " ('reranking', 'model-deployment'),\n",
       " ('model', 'model-group'),\n",
       " ('evaluation-config', 'question-set'),\n",
       " ('execute', 'model-deployment'),\n",
       " ('application-variant-report', 'account'),\n",
       " ('evaluation-dataset-version', 'autogenerated-draft-test-case'),\n",
       " ('upload', 'chunk'),\n",
       " ('generation-job', 'evaluation-dataset'),\n",
       " ('application-spec', 'account'),\n",
       " ('autogenerated-draft-test-case', 'account'),\n",
       " ('chat-completion', 'model'),\n",
       " ('fine-tuning-job', 'account'),\n",
       " ('application-spec', 'theme'),\n",
       " ('application-test-case-output', 'account'),\n",
       " ('evaluation-config', 'studio-project'),\n",
       " ('evaluation', 'evaluation-config'),\n",
       " ('application-variant', 'application-spec'),\n",
       " ('completion', 'account'),\n",
       " ('claim-task', 'account'),\n",
       " ('model-deployment', 'model'),\n",
       " ('rank', 'chunk'),\n",
       " ('completion', 'model-deployment'),\n",
       " ('evaluation-dataset', 'account'),\n",
       " ('evaluation-dataset', 'knowledge-base'),\n",
       " ('upload', 'knowledge-base'),\n",
       " ('copy-to-control-plane-hook', 'account'),\n",
       " ('evaluation', 'evaluation-dataset-version'),\n",
       " ('model', 'account'),\n",
       " ('install-async', 'account'),\n",
       " ('test-case-result', 'account'),\n",
       " ('upload-schedule', 'account'),\n",
       " ('evaluation-dataset-version', 'evaluation-dataset'),\n",
       " ('question-set', 'question'),\n",
       " ('deployment', 'model'),\n",
       " ('execute', 'message'),\n",
       " ('upload-schedule', 'knowledge-base'),\n",
       " ('test-case', 'evaluation-dataset'),\n",
       " ('evaluation', 'account'),\n",
       " ('completion', 'model'),\n",
       " ('model', 'model-template'),\n",
       " ('knowledge-base-datum-source', 'account'),\n",
       " ('knowledge-base', 'account'),\n",
       " ('question-set', 'account'),\n",
       " ('knowledge-base-datum-source', 'knowledge-base'),\n",
       " ('model-template', 'account'),\n",
       " ('model-group', 'account'),\n",
       " ('application-variant-report', 'application-variant'),\n",
       " ('execute', 'model'),\n",
       " ('thread', 'account'),\n",
       " ('evaluation-dataset', 'autogenerated-draft-test-case'),\n",
       " ('application-deployment', 'account'),\n",
       " ('application-test-case-output', 'application-variant'),\n",
       " ('reranking', 'chunk'),\n",
       " ('application-variant', 'account'),\n",
       " ('application-variant-report', 'evaluation-dataset'),\n",
       " ('install', 'account'),\n",
       " ('rank', 'account'),\n",
       " ('test-case-result', 'test-case'),\n",
       " ('evaluation', 'evaluation-dataset'),\n",
       " ('autogenerated-draft-test-case', 'evaluation-dataset'),\n",
       " ('question', 'account'),\n",
       " ('chat-completion', 'account'),\n",
       " ('upload-file', 'knowledge-base'),\n",
       " ('application-test-case-output', 'test-case'),\n",
       " ('fine-tuning-job', 'training-dataset'),\n",
       " ('proces', 'application-variant'),\n",
       " ('model-deployment', 'deployment'),\n",
       " ('chat-completion', 'model-deployment'),\n",
       " ('synthesis', 'chunk'),\n",
       " ('evaluation', 'application-variant'),\n",
       " ('evaluation-config', 'account')]"
      ]
     },
     "execution_count": 363,
     "metadata": {},
     "output_type": "execute_result"
    }
   ],
   "execution_count": 363
  },
  {
   "metadata": {
    "ExecuteTime": {
     "end_time": "2024-09-23T04:59:00.533592Z",
     "start_time": "2024-09-23T04:59:00.531288Z"
    }
   },
   "cell_type": "code",
   "source": "len(edgs)",
   "id": "45e7855208d78f33",
   "outputs": [
    {
     "data": {
      "text/plain": [
       "88"
      ]
     },
     "execution_count": 364,
     "metadata": {},
     "output_type": "execute_result"
    }
   ],
   "execution_count": 364
  },
  {
   "metadata": {
    "ExecuteTime": {
     "end_time": "2024-09-23T04:59:00.535892Z",
     "start_time": "2024-09-23T04:59:00.534133Z"
    }
   },
   "cell_type": "code",
   "source": [
    "from networkx import DiGraph\n",
    "import networkx as nx\n",
    "\n",
    "\n",
    "def build_dependency_tree(edges: []) -> DiGraph:\n",
    "    graph = nx.DiGraph()\n",
    "    graph.add_edges_from(edges)\n",
    "\n",
    "    return graph"
   ],
   "id": "927190ed034d2b35",
   "outputs": [],
   "execution_count": 365
  },
  {
   "metadata": {
    "ExecuteTime": {
     "end_time": "2024-09-23T04:59:00.538337Z",
     "start_time": "2024-09-23T04:59:00.536608Z"
    }
   },
   "cell_type": "code",
   "source": "g = build_dependency_tree(edgs)",
   "id": "5cf6453e1d4831ad",
   "outputs": [],
   "execution_count": 366
  },
  {
   "metadata": {
    "ExecuteTime": {
     "end_time": "2024-09-23T04:59:00.542100Z",
     "start_time": "2024-09-23T04:59:00.538893Z"
    }
   },
   "cell_type": "code",
   "source": [
    "import networkx as nx\n",
    "from anytree import Node, RenderTree\n",
    "from collections import deque\n",
    "\n",
    "def print_tree_for_node(graph: nx.DiGraph, start_node_name: str):\n",
    "    if start_node_name not in graph.nodes():\n",
    "        print(f\"Node '{start_node_name}' not found in the graph.\")\n",
    "        return\n",
    "\n",
    "    # Create a dictionary to store anytree Nodes\n",
    "    node_dict = {}\n",
    "    visited = set()  # To keep track of visited nodes\n",
    "\n",
    "    def create_tree(nx_node):\n",
    "        queue = deque([(nx_node, None)])\n",
    "        while queue:\n",
    "            current_node, parent = queue.popleft()\n",
    "            \n",
    "            if current_node in visited:\n",
    "                continue\n",
    "            visited.add(current_node)\n",
    "            \n",
    "            # Create anytree Node if it doesn't exist\n",
    "            if current_node not in node_dict:\n",
    "                node_dict[current_node] = Node(str(current_node), parent=parent)\n",
    "            elif parent:\n",
    "                # If node exists but with different parent, create a new node\n",
    "                node_dict[current_node] = Node(f\"{current_node}_dup\", parent=parent)\n",
    "            \n",
    "            # Add child nodes to the queue\n",
    "            for child in graph.successors(current_node):\n",
    "                if child not in visited:\n",
    "                    queue.append((child, node_dict[current_node]))\n",
    "\n",
    "    # Create the tree starting from the specified node\n",
    "    create_tree(start_node_name)\n",
    "\n",
    "    # Print the tree\n",
    "    print(f\"\\nTree rooted at {start_node_name}:\")\n",
    "    print(RenderTree(node_dict[start_node_name]))\n",
    "\n",
    "# Example usage\n",
    "# edges = [\n",
    "#     ('A', 'B'), ('A', 'C'), ('B', 'D'), ('B', 'E'),\n",
    "#     ('C', 'F'), ('E', 'G'), ('F', 'H'),\n",
    "#     ('I', 'J'), ('J', 'K'),\n",
    "#     ('D', 'B')  # Adding a cycle to test\n",
    "# ]\n",
    "# \n",
    "# graph = nx.DiGraph(edges)\n",
    "# \n",
    "# # Print tree for node 'A'\n",
    "# print_tree_for_node(graph, 'A')\n",
    "# \n",
    "# # Print tree for node 'B'\n",
    "# print_tree_for_node(graph, 'B')\n",
    "# # Try to print tree for a non-existent node\n",
    "# print_tree_for_node(graph, 'Z')"
   ],
   "id": "d5765145daf40abe",
   "outputs": [],
   "execution_count": 367
  },
  {
   "metadata": {
    "ExecuteTime": {
     "end_time": "2024-09-23T04:59:54.865359Z",
     "start_time": "2024-09-23T04:59:54.863133Z"
    }
   },
   "cell_type": "code",
   "source": "print_tree_for_node(g, 'chat-completion')",
   "id": "83fc028eed885b47",
   "outputs": [
    {
     "name": "stdout",
     "output_type": "stream",
     "text": [
      "\n",
      "Tree rooted at chat-completion:\n",
      "Node('/chat-completion')\n",
      "├── Node('/chat-completion/message')\n",
      "├── Node('/chat-completion/model')\n",
      "│   ├── Node('/chat-completion/model/model-group')\n",
      "│   └── Node('/chat-completion/model/model-template')\n",
      "├── Node('/chat-completion/account')\n",
      "└── Node('/chat-completion/model-deployment')\n",
      "    └── Node('/chat-completion/model-deployment/deployment')\n"
     ]
    }
   ],
   "execution_count": 373
  },
  {
   "metadata": {
    "ExecuteTime": {
     "end_time": "2024-09-23T04:59:00.546869Z",
     "start_time": "2024-09-23T04:59:00.545210Z"
    }
   },
   "cell_type": "code",
   "source": [
    "def print_graph(graph: nx.DiGraph):\n",
    "    print(\"Nodes:\")\n",
    "    for node in graph.nodes():\n",
    "        print(f\"  {node}\")\n",
    "    \n",
    "    print(\"\\nEdges:\")\n",
    "    for edge in graph.edges():\n",
    "        print(f\"  {edge[0]} -> {edge[1]}\")"
   ],
   "id": "b540b8bb8a829122",
   "outputs": [],
   "execution_count": 369
  },
  {
   "metadata": {
    "ExecuteTime": {
     "end_time": "2024-09-23T04:59:00.549230Z",
     "start_time": "2024-09-23T04:59:00.547453Z"
    }
   },
   "cell_type": "code",
   "source": "print_graph(g)",
   "id": "be63fb1e9b8fdd88",
   "outputs": [
    {
     "name": "stdout",
     "output_type": "stream",
     "text": [
      "Nodes:\n",
      "  theme\n",
      "  account\n",
      "  evaluation-dataset-version\n",
      "  claim-task\n",
      "  evaluation\n",
      "  test-case\n",
      "  studio-project\n",
      "  upload-schedule\n",
      "  knowledge-base-datum-source\n",
      "  deployment\n",
      "  thread\n",
      "  application-variant\n",
      "  test-case-result\n",
      "  application-spec\n",
      "  application-deployment\n",
      "  proces\n",
      "  chat-completion\n",
      "  message\n",
      "  artifact\n",
      "  knowledge-base\n",
      "  embedding\n",
      "  model-deployment\n",
      "  training-dataset\n",
      "  reranking\n",
      "  model\n",
      "  model-group\n",
      "  evaluation-config\n",
      "  question-set\n",
      "  execute\n",
      "  application-variant-report\n",
      "  autogenerated-draft-test-case\n",
      "  upload\n",
      "  chunk\n",
      "  generation-job\n",
      "  evaluation-dataset\n",
      "  fine-tuning-job\n",
      "  application-test-case-output\n",
      "  completion\n",
      "  rank\n",
      "  copy-to-control-plane-hook\n",
      "  install-async\n",
      "  question\n",
      "  model-template\n",
      "  install\n",
      "  upload-file\n",
      "  synthesis\n",
      "\n",
      "Edges:\n",
      "  theme -> account\n",
      "  evaluation-dataset-version -> account\n",
      "  evaluation-dataset-version -> autogenerated-draft-test-case\n",
      "  evaluation-dataset-version -> evaluation-dataset\n",
      "  claim-task -> evaluation\n",
      "  claim-task -> account\n",
      "  evaluation -> application-spec\n",
      "  evaluation -> evaluation-config\n",
      "  evaluation -> evaluation-dataset-version\n",
      "  evaluation -> account\n",
      "  evaluation -> evaluation-dataset\n",
      "  evaluation -> application-variant\n",
      "  test-case -> account\n",
      "  test-case -> evaluation-dataset\n",
      "  studio-project -> account\n",
      "  upload-schedule -> knowledge-base-datum-source\n",
      "  upload-schedule -> account\n",
      "  upload-schedule -> knowledge-base\n",
      "  knowledge-base-datum-source -> account\n",
      "  knowledge-base-datum-source -> knowledge-base\n",
      "  deployment -> account\n",
      "  deployment -> model\n",
      "  thread -> application-variant\n",
      "  thread -> account\n",
      "  application-variant -> application-spec\n",
      "  application-variant -> account\n",
      "  test-case-result -> application-spec\n",
      "  test-case-result -> evaluation\n",
      "  test-case-result -> account\n",
      "  test-case-result -> test-case\n",
      "  application-spec -> account\n",
      "  application-spec -> theme\n",
      "  application-deployment -> application-variant\n",
      "  application-deployment -> account\n",
      "  proces -> thread\n",
      "  proces -> application-variant\n",
      "  chat-completion -> message\n",
      "  chat-completion -> model\n",
      "  chat-completion -> account\n",
      "  chat-completion -> model-deployment\n",
      "  artifact -> knowledge-base\n",
      "  knowledge-base -> account\n",
      "  embedding -> model-deployment\n",
      "  model-deployment -> model\n",
      "  model-deployment -> deployment\n",
      "  training-dataset -> account\n",
      "  reranking -> model-deployment\n",
      "  reranking -> chunk\n",
      "  model -> model-group\n",
      "  model -> account\n",
      "  model -> model-template\n",
      "  model-group -> account\n",
      "  evaluation-config -> question-set\n",
      "  evaluation-config -> studio-project\n",
      "  evaluation-config -> account\n",
      "  question-set -> question\n",
      "  question-set -> account\n",
      "  execute -> model-deployment\n",
      "  execute -> message\n",
      "  execute -> model\n",
      "  application-variant-report -> account\n",
      "  application-variant-report -> application-variant\n",
      "  application-variant-report -> evaluation-dataset\n",
      "  autogenerated-draft-test-case -> account\n",
      "  autogenerated-draft-test-case -> evaluation-dataset\n",
      "  upload -> chunk\n",
      "  upload -> knowledge-base\n",
      "  generation-job -> evaluation-dataset\n",
      "  evaluation-dataset -> account\n",
      "  evaluation-dataset -> knowledge-base\n",
      "  evaluation-dataset -> autogenerated-draft-test-case\n",
      "  fine-tuning-job -> account\n",
      "  fine-tuning-job -> training-dataset\n",
      "  application-test-case-output -> account\n",
      "  application-test-case-output -> application-variant\n",
      "  application-test-case-output -> test-case\n",
      "  completion -> account\n",
      "  completion -> model-deployment\n",
      "  completion -> model\n",
      "  rank -> chunk\n",
      "  rank -> account\n",
      "  copy-to-control-plane-hook -> account\n",
      "  install-async -> account\n",
      "  question -> account\n",
      "  model-template -> account\n",
      "  install -> account\n",
      "  upload-file -> knowledge-base\n",
      "  synthesis -> chunk\n"
     ]
    }
   ],
   "execution_count": 370
  },
  {
   "metadata": {
    "ExecuteTime": {
     "end_time": "2024-09-23T04:59:00.551142Z",
     "start_time": "2024-09-23T04:59:00.549874Z"
    }
   },
   "cell_type": "code",
   "source": [
    "# steps:\n",
    "# plan routes needed to execute\n",
    "# execute routes in sequence"
   ],
   "id": "2a7c960bd41a5157",
   "outputs": [],
   "execution_count": 371
  }
 ],
 "metadata": {
  "kernelspec": {
   "display_name": "Python 3",
   "language": "python",
   "name": "python3"
  },
  "language_info": {
   "codemirror_mode": {
    "name": "ipython",
    "version": 2
   },
   "file_extension": ".py",
   "mimetype": "text/x-python",
   "name": "python",
   "nbconvert_exporter": "python",
   "pygments_lexer": "ipython2",
   "version": "2.7.6"
  }
 },
 "nbformat": 4,
 "nbformat_minor": 5
}
