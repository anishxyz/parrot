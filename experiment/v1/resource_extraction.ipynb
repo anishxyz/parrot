{
 "cells": [
  {
   "cell_type": "code",
   "id": "initial_id",
   "metadata": {
    "collapsed": true,
    "ExecuteTime": {
     "end_time": "2024-09-21T09:25:47.846798Z",
     "start_time": "2024-09-21T09:25:45.704900Z"
    }
   },
   "source": "!pip install pydantic anytree networkx matplotlib inflect openapi-core jsonref prance datamodel-code-generator",
   "outputs": [
    {
     "name": "stdout",
     "output_type": "stream",
     "text": [
      "Requirement already satisfied: pydantic in /Users/anishagrawal/Desktop/Development/parrot/venv/lib/python3.11/site-packages (2.8.2)\r\n",
      "Requirement already satisfied: anytree in /Users/anishagrawal/Desktop/Development/parrot/venv/lib/python3.11/site-packages (2.12.1)\r\n",
      "Requirement already satisfied: networkx in /Users/anishagrawal/Desktop/Development/parrot/venv/lib/python3.11/site-packages (3.3)\r\n",
      "Requirement already satisfied: matplotlib in /Users/anishagrawal/Desktop/Development/parrot/venv/lib/python3.11/site-packages (3.9.1)\r\n",
      "Requirement already satisfied: inflect in /Users/anishagrawal/Desktop/Development/parrot/venv/lib/python3.11/site-packages (5.6.2)\r\n",
      "Requirement already satisfied: openapi-core in /Users/anishagrawal/Desktop/Development/parrot/venv/lib/python3.11/site-packages (0.19.2)\r\n",
      "Requirement already satisfied: jsonref in /Users/anishagrawal/Desktop/Development/parrot/venv/lib/python3.11/site-packages (1.1.0)\r\n",
      "Requirement already satisfied: prance in /Users/anishagrawal/Desktop/Development/parrot/venv/lib/python3.11/site-packages (23.6.21.0)\r\n",
      "Requirement already satisfied: datamodel-code-generator in /Users/anishagrawal/Desktop/Development/parrot/venv/lib/python3.11/site-packages (0.26.0)\r\n",
      "Requirement already satisfied: annotated-types>=0.4.0 in /Users/anishagrawal/Desktop/Development/parrot/venv/lib/python3.11/site-packages (from pydantic) (0.7.0)\r\n",
      "Requirement already satisfied: pydantic-core==2.20.1 in /Users/anishagrawal/Desktop/Development/parrot/venv/lib/python3.11/site-packages (from pydantic) (2.20.1)\r\n",
      "Requirement already satisfied: typing-extensions>=4.6.1 in /Users/anishagrawal/Desktop/Development/parrot/venv/lib/python3.11/site-packages (from pydantic) (4.12.2)\r\n",
      "Requirement already satisfied: six in /Users/anishagrawal/Desktop/Development/parrot/venv/lib/python3.11/site-packages (from anytree) (1.16.0)\r\n",
      "Requirement already satisfied: contourpy>=1.0.1 in /Users/anishagrawal/Desktop/Development/parrot/venv/lib/python3.11/site-packages (from matplotlib) (1.2.1)\r\n",
      "Requirement already satisfied: cycler>=0.10 in /Users/anishagrawal/Desktop/Development/parrot/venv/lib/python3.11/site-packages (from matplotlib) (0.12.1)\r\n",
      "Requirement already satisfied: fonttools>=4.22.0 in /Users/anishagrawal/Desktop/Development/parrot/venv/lib/python3.11/site-packages (from matplotlib) (4.53.1)\r\n",
      "Requirement already satisfied: kiwisolver>=1.3.1 in /Users/anishagrawal/Desktop/Development/parrot/venv/lib/python3.11/site-packages (from matplotlib) (1.4.5)\r\n",
      "Requirement already satisfied: numpy>=1.23 in /Users/anishagrawal/Desktop/Development/parrot/venv/lib/python3.11/site-packages (from matplotlib) (2.0.0)\r\n",
      "Requirement already satisfied: packaging>=20.0 in /Users/anishagrawal/Desktop/Development/parrot/venv/lib/python3.11/site-packages (from matplotlib) (24.1)\r\n",
      "Requirement already satisfied: pillow>=8 in /Users/anishagrawal/Desktop/Development/parrot/venv/lib/python3.11/site-packages (from matplotlib) (10.4.0)\r\n",
      "Requirement already satisfied: pyparsing>=2.3.1 in /Users/anishagrawal/Desktop/Development/parrot/venv/lib/python3.11/site-packages (from matplotlib) (3.1.2)\r\n",
      "Requirement already satisfied: python-dateutil>=2.7 in /Users/anishagrawal/Desktop/Development/parrot/venv/lib/python3.11/site-packages (from matplotlib) (2.9.0.post0)\r\n",
      "Requirement already satisfied: isodate in /Users/anishagrawal/Desktop/Development/parrot/venv/lib/python3.11/site-packages (from openapi-core) (0.6.1)\r\n",
      "Requirement already satisfied: jsonschema<5.0.0,>=4.18.0 in /Users/anishagrawal/Desktop/Development/parrot/venv/lib/python3.11/site-packages (from openapi-core) (4.22.0)\r\n",
      "Requirement already satisfied: jsonschema-path<0.4.0,>=0.3.1 in /Users/anishagrawal/Desktop/Development/parrot/venv/lib/python3.11/site-packages (from openapi-core) (0.3.3)\r\n",
      "Requirement already satisfied: more-itertools in /Users/anishagrawal/Desktop/Development/parrot/venv/lib/python3.11/site-packages (from openapi-core) (10.3.0)\r\n",
      "Requirement already satisfied: openapi-schema-validator<0.7.0,>=0.6.0 in /Users/anishagrawal/Desktop/Development/parrot/venv/lib/python3.11/site-packages (from openapi-core) (0.6.2)\r\n",
      "Requirement already satisfied: openapi-spec-validator<0.8.0,>=0.7.1 in /Users/anishagrawal/Desktop/Development/parrot/venv/lib/python3.11/site-packages (from openapi-core) (0.7.1)\r\n",
      "Requirement already satisfied: parse in /Users/anishagrawal/Desktop/Development/parrot/venv/lib/python3.11/site-packages (from openapi-core) (1.20.2)\r\n",
      "Requirement already satisfied: werkzeug in /Users/anishagrawal/Desktop/Development/parrot/venv/lib/python3.11/site-packages (from openapi-core) (3.0.3)\r\n",
      "Requirement already satisfied: chardet>=3.0 in /Users/anishagrawal/Desktop/Development/parrot/venv/lib/python3.11/site-packages (from prance) (5.2.0)\r\n",
      "Requirement already satisfied: ruamel.yaml>=0.17.10 in /Users/anishagrawal/Desktop/Development/parrot/venv/lib/python3.11/site-packages (from prance) (0.18.6)\r\n",
      "Requirement already satisfied: requests>=2.25 in /Users/anishagrawal/Desktop/Development/parrot/venv/lib/python3.11/site-packages (from prance) (2.32.3)\r\n",
      "Requirement already satisfied: argcomplete<4.0,>=1.10 in /Users/anishagrawal/Desktop/Development/parrot/venv/lib/python3.11/site-packages (from datamodel-code-generator) (3.5.0)\r\n",
      "Requirement already satisfied: black>=19.10b0 in /Users/anishagrawal/Desktop/Development/parrot/venv/lib/python3.11/site-packages (from datamodel-code-generator) (24.8.0)\r\n",
      "Requirement already satisfied: genson<2.0,>=1.2.1 in /Users/anishagrawal/Desktop/Development/parrot/venv/lib/python3.11/site-packages (from datamodel-code-generator) (1.3.0)\r\n",
      "Requirement already satisfied: isort<6.0,>=4.3.21 in /Users/anishagrawal/Desktop/Development/parrot/venv/lib/python3.11/site-packages (from datamodel-code-generator) (5.13.2)\r\n",
      "Requirement already satisfied: jinja2<4.0,>=2.10.1 in /Users/anishagrawal/Desktop/Development/parrot/venv/lib/python3.11/site-packages (from datamodel-code-generator) (3.1.4)\r\n",
      "Requirement already satisfied: pyyaml>=6.0.1 in /Users/anishagrawal/Desktop/Development/parrot/venv/lib/python3.11/site-packages (from datamodel-code-generator) (6.0.1)\r\n",
      "Requirement already satisfied: click>=8.0.0 in /Users/anishagrawal/Desktop/Development/parrot/venv/lib/python3.11/site-packages (from black>=19.10b0->datamodel-code-generator) (8.1.7)\r\n",
      "Requirement already satisfied: mypy-extensions>=0.4.3 in /Users/anishagrawal/Desktop/Development/parrot/venv/lib/python3.11/site-packages (from black>=19.10b0->datamodel-code-generator) (1.0.0)\r\n",
      "Requirement already satisfied: pathspec>=0.9.0 in /Users/anishagrawal/Desktop/Development/parrot/venv/lib/python3.11/site-packages (from black>=19.10b0->datamodel-code-generator) (0.12.1)\r\n",
      "Requirement already satisfied: platformdirs>=2 in /Users/anishagrawal/Desktop/Development/parrot/venv/lib/python3.11/site-packages (from black>=19.10b0->datamodel-code-generator) (4.2.2)\r\n",
      "Requirement already satisfied: MarkupSafe>=2.0 in /Users/anishagrawal/Desktop/Development/parrot/venv/lib/python3.11/site-packages (from jinja2<4.0,>=2.10.1->datamodel-code-generator) (2.1.5)\r\n",
      "Requirement already satisfied: attrs>=22.2.0 in /Users/anishagrawal/Desktop/Development/parrot/venv/lib/python3.11/site-packages (from jsonschema<5.0.0,>=4.18.0->openapi-core) (23.2.0)\r\n",
      "Requirement already satisfied: jsonschema-specifications>=2023.03.6 in /Users/anishagrawal/Desktop/Development/parrot/venv/lib/python3.11/site-packages (from jsonschema<5.0.0,>=4.18.0->openapi-core) (2023.12.1)\r\n",
      "Requirement already satisfied: referencing>=0.28.4 in /Users/anishagrawal/Desktop/Development/parrot/venv/lib/python3.11/site-packages (from jsonschema<5.0.0,>=4.18.0->openapi-core) (0.35.1)\r\n",
      "Requirement already satisfied: rpds-py>=0.7.1 in /Users/anishagrawal/Desktop/Development/parrot/venv/lib/python3.11/site-packages (from jsonschema<5.0.0,>=4.18.0->openapi-core) (0.18.1)\r\n",
      "Requirement already satisfied: pathable<0.5.0,>=0.4.1 in /Users/anishagrawal/Desktop/Development/parrot/venv/lib/python3.11/site-packages (from jsonschema-path<0.4.0,>=0.3.1->openapi-core) (0.4.3)\r\n",
      "Requirement already satisfied: rfc3339-validator in /Users/anishagrawal/Desktop/Development/parrot/venv/lib/python3.11/site-packages (from openapi-schema-validator<0.7.0,>=0.6.0->openapi-core) (0.1.4)\r\n",
      "Requirement already satisfied: lazy-object-proxy<2.0.0,>=1.7.1 in /Users/anishagrawal/Desktop/Development/parrot/venv/lib/python3.11/site-packages (from openapi-spec-validator<0.8.0,>=0.7.1->openapi-core) (1.10.0)\r\n",
      "Requirement already satisfied: email-validator>=2.0.0 in /Users/anishagrawal/Desktop/Development/parrot/venv/lib/python3.11/site-packages (from pydantic) (2.2.0)\r\n",
      "Requirement already satisfied: charset-normalizer<4,>=2 in /Users/anishagrawal/Desktop/Development/parrot/venv/lib/python3.11/site-packages (from requests>=2.25->prance) (3.3.2)\r\n",
      "Requirement already satisfied: idna<4,>=2.5 in /Users/anishagrawal/Desktop/Development/parrot/venv/lib/python3.11/site-packages (from requests>=2.25->prance) (3.7)\r\n",
      "Requirement already satisfied: urllib3<3,>=1.21.1 in /Users/anishagrawal/Desktop/Development/parrot/venv/lib/python3.11/site-packages (from requests>=2.25->prance) (2.2.2)\r\n",
      "Requirement already satisfied: certifi>=2017.4.17 in /Users/anishagrawal/Desktop/Development/parrot/venv/lib/python3.11/site-packages (from requests>=2.25->prance) (2024.7.4)\r\n",
      "Requirement already satisfied: ruamel.yaml.clib>=0.2.7 in /Users/anishagrawal/Desktop/Development/parrot/venv/lib/python3.11/site-packages (from ruamel.yaml>=0.17.10->prance) (0.2.8)\r\n",
      "Requirement already satisfied: dnspython>=2.0.0 in /Users/anishagrawal/Desktop/Development/parrot/venv/lib/python3.11/site-packages (from email-validator>=2.0.0->pydantic) (2.6.1)\r\n",
      "\r\n",
      "\u001B[1m[\u001B[0m\u001B[34;49mnotice\u001B[0m\u001B[1;39;49m]\u001B[0m\u001B[39;49m A new release of pip available: \u001B[0m\u001B[31;49m22.3.1\u001B[0m\u001B[39;49m -> \u001B[0m\u001B[32;49m24.2\u001B[0m\r\n",
      "\u001B[1m[\u001B[0m\u001B[34;49mnotice\u001B[0m\u001B[1;39;49m]\u001B[0m\u001B[39;49m To update, run: \u001B[0m\u001B[32;49mpip install --upgrade pip\u001B[0m\r\n"
     ]
    }
   ],
   "execution_count": 204
  },
  {
   "metadata": {
    "ExecuteTime": {
     "end_time": "2024-09-21T09:25:47.850126Z",
     "start_time": "2024-09-21T09:25:47.848122Z"
    }
   },
   "cell_type": "code",
   "source": [
    "import logging\n",
    "\n",
    "logging.basicConfig(level=logging.DEBUG, format='%(asctime)s - %(levelname)s - %(message)s')"
   ],
   "id": "e5ece1630b092446",
   "outputs": [],
   "execution_count": 205
  },
  {
   "metadata": {
    "ExecuteTime": {
     "end_time": "2024-09-21T09:25:47.852576Z",
     "start_time": "2024-09-21T09:25:47.850803Z"
    }
   },
   "cell_type": "code",
   "source": [
    "import json\n",
    "\n",
    "def parse_spec(file_path):\n",
    "    with open(file_path, 'r') as file:\n",
    "        return json.load(file)"
   ],
   "id": "78ac318cbef9152b",
   "outputs": [],
   "execution_count": 206
  },
  {
   "metadata": {
    "ExecuteTime": {
     "end_time": "2024-09-21T09:25:47.907517Z",
     "start_time": "2024-09-21T09:25:47.853910Z"
    }
   },
   "cell_type": "code",
   "source": [
    "# filepath = \"../openapi_specs/resolved/stripe-08-10-24.json\"\n",
    "filepath = \"../openapi_specs/resolved/sgp-09-21-24.json\"\n",
    "\n",
    "spec = parse_spec(filepath)"
   ],
   "id": "c9a6933c07023dd1",
   "outputs": [],
   "execution_count": 207
  },
  {
   "metadata": {
    "ExecuteTime": {
     "end_time": "2024-09-21T09:25:47.909920Z",
     "start_time": "2024-09-21T09:25:47.908306Z"
    }
   },
   "cell_type": "code",
   "source": "# !datamodel-codegen  --input \"../openapi_specs/stripe-08-10-24.yaml\" --input-file-type openapi --output model.py",
   "id": "eefd77c73f929a90",
   "outputs": [],
   "execution_count": 208
  },
  {
   "metadata": {
    "ExecuteTime": {
     "end_time": "2024-09-21T09:25:47.912520Z",
     "start_time": "2024-09-21T09:25:47.910768Z"
    }
   },
   "cell_type": "code",
   "source": "resource_blacklist = ['delete', 'query', 'cancel', 'batch', 'verify', 'process', 'validate', 'approve', 'publish', 'history', 'approve-batch']",
   "id": "e7b562e16cf31b7e",
   "outputs": [],
   "execution_count": 209
  },
  {
   "metadata": {
    "ExecuteTime": {
     "end_time": "2024-09-21T09:25:47.917244Z",
     "start_time": "2024-09-21T09:25:47.913249Z"
    }
   },
   "cell_type": "code",
   "source": [
    "from pydantic import BaseModel\n",
    "from collections import defaultdict\n",
    "\n",
    "\n",
    "class RouteMethodDescription(BaseModel):\n",
    "    method: str\n",
    "    description: str\n",
    "\n",
    "\n",
    "# fetch all resources\n",
    "def extract_resources(openapi: dict):\n",
    "    resource_to_routes = defaultdict()  # resource -> {paths} -> {methods} -> description\n",
    "\n",
    "    for path, methods in openapi['paths'].items():\n",
    "        # not a _real_ resource\n",
    "        if 'get' not in methods.keys() and 'post' not in methods.keys():\n",
    "            continue\n",
    "\n",
    "        # find current resource  \n",
    "        def find_last_unwrapped_element(path_list):\n",
    "            for element in reversed(path_list):\n",
    "                if not (element.startswith('{') and element.endswith('}')):\n",
    "                    return element\n",
    "            return None\n",
    "\n",
    "        resource = find_last_unwrapped_element(path.split('/'))\n",
    "\n",
    "        if not resource or resource in resource_blacklist:\n",
    "            continue\n",
    "        \n",
    "        if resource not in resource_to_routes:\n",
    "            resource_to_routes[resource] = {}\n",
    "\n",
    "        resource_to_routes[resource][path] = {}\n",
    "\n",
    "        for m, v in methods.items():\n",
    "            resource_to_routes[resource][path][m] = v.get('description')\n",
    "\n",
    "    return resource_to_routes"
   ],
   "id": "5a180440004eaead",
   "outputs": [],
   "execution_count": 210
  },
  {
   "metadata": {
    "ExecuteTime": {
     "end_time": "2024-09-21T09:25:47.920097Z",
     "start_time": "2024-09-21T09:25:47.917909Z"
    }
   },
   "cell_type": "code",
   "source": [
    "extraction = extract_resources(spec)\n",
    "resources = extraction.keys()\n",
    "\n",
    "resources"
   ],
   "id": "71e56fcef8316e2b",
   "outputs": [
    {
     "data": {
      "text/plain": [
       "dict_keys(['knowledge-bases', 'async-jobs', 'chunks', 'upload_files', 'uploads', 'artifacts', 'batch-delete', 'rank', 'synthesis', 'execute', 'completions', 'chat-completions', 'embeddings', 'rerankings', 'deployments', 'usage-statistics', 'model-deployments', 'models', 'user-info', 'users', 'accounts', 'question-sets', 'claim-task', 'contributor-metrics', 'evaluation-metrics', 'hybrid-eval-metrics', 'evaluation-configs', 'evaluation-datasets', 'evaluation-dataset-versions', 'test-cases', 'studio-projects', 'application-specs', 'evaluations', 'test-case-results', 'questions', 'knowledge-base-data-sources', 'upload-schedules', 'autogenerated-draft-test-cases', 'generation-jobs', 'model-groups', 'model-templates', 'fine-tuning-jobs', 'events', 'training-datasets', 'contents', 'install', 'copy-to-control-plane-hook', 'install_async', 'application-variants', 'application-deployments', 'application-variant-reports', 'application-test-case-outputs', 'application-with-variant', 'application-schemas', 'threads', 'upload-files', 'messages', 'dashboards', 'scalar', 'timeseries', 'themes'])"
      ]
     },
     "execution_count": 211,
     "metadata": {},
     "output_type": "execute_result"
    }
   ],
   "execution_count": 211
  },
  {
   "metadata": {
    "ExecuteTime": {
     "end_time": "2024-09-21T09:25:47.926635Z",
     "start_time": "2024-09-21T09:25:47.920634Z"
    }
   },
   "cell_type": "code",
   "source": [
    "# GOAL: create resource dependency tree\n",
    "# Thesis: to create a resource you need to do POST, dependents are ids and other resource names\n",
    "\n",
    "def organize_resources(openapi):\n",
    "    edges = [] # list(parent, child)\n",
    "\n",
    "    for path, methods in openapi['paths'].items():\n",
    "        # not a _real_ resource\n",
    "        if 'post' not in methods.keys():\n",
    "            continue\n",
    "        \n",
    "        path_list = path.split('/')\n",
    "        \n",
    "        # edges from path structure\n",
    "        flag = None\n",
    "        for p in path_list:\n",
    "            if p in resources and flag:\n",
    "                edges.append((flag, p))\n",
    "            if p in resources:\n",
    "                flag = p    \n",
    "        \n",
    "        if flag is None:\n",
    "            continue\n",
    "            \n",
    "        # edges from request shape\n",
    "        def extract_param_names(obj):\n",
    "            param_names = []\n",
    "            \n",
    "            def recursive_extract(current_obj):\n",
    "                if isinstance(current_obj, dict):\n",
    "                    if 'properties' in current_obj:\n",
    "                        param_names.extend(current_obj['properties'].keys())\n",
    "                    else:\n",
    "                        for value in current_obj.values():\n",
    "                            recursive_extract(value)\n",
    "                elif isinstance(current_obj, list):\n",
    "                    for item in current_obj:\n",
    "                        recursive_extract(item)\n",
    "            \n",
    "            recursive_extract(obj)\n",
    "            return list(set(param_names))\n",
    "        \n",
    "        def is_in_main_list(string, main_list):\n",
    "            return string in main_list\n",
    "        \n",
    "        def is_singular_in_main_list(string, main_list):\n",
    "            if string.endswith('s'):\n",
    "                return string[:-1] in main_list\n",
    "            elif string.endswith('es'):\n",
    "                return string[:-2] in main_list\n",
    "            return False\n",
    "        \n",
    "        def is_referenced_as_id(string, main_list):\n",
    "            variations = [\n",
    "                f\"{string}_id\",\n",
    "                f\"{string}_ids\",\n",
    "            ]\n",
    "            if string.endswith('s'):\n",
    "                variations.append(f\"{string[:-1]}_id\")\n",
    "                variations.append(f\"{string[:-1]}_ids\")\n",
    "            if string.endswith('es'):\n",
    "                variations.append(f\"{string[:-2]}_id\")\n",
    "                variations.append(f\"{string[:-2]}_ids\")\n",
    "            \n",
    "            variations = [var.replace('-', '_') for var in variations]\n",
    "            return any(variation in main_list for variation in variations)\n",
    "        \n",
    "        def filter_strings(main_list, filter_list):\n",
    "            conditions = [\n",
    "                is_in_main_list,\n",
    "                is_singular_in_main_list,\n",
    "                is_referenced_as_id,\n",
    "            ]\n",
    "            \n",
    "            return [\n",
    "                string for string in filter_list \n",
    "                if any(condition(string, main_list) for condition in conditions)\n",
    "            ]\n",
    "        \n",
    "        if 'requestBody' in methods['post']:\n",
    "            params = extract_param_names(methods['post']['requestBody'])\n",
    "        else:\n",
    "            params = extract_param_names(methods['post'])\n",
    "        \n",
    "        for r in filter_strings(params, resources):\n",
    "            edges.append((flag, r))\n",
    "        \n",
    "    return edges"
   ],
   "id": "db15b0e525a2a2d3",
   "outputs": [],
   "execution_count": 212
  },
  {
   "metadata": {
    "ExecuteTime": {
     "end_time": "2024-09-21T09:25:47.937853Z",
     "start_time": "2024-09-21T09:25:47.928535Z"
    }
   },
   "cell_type": "code",
   "source": [
    "edgs = organize_resources(spec)\n",
    "edgs = list(set(edgs))\n",
    "\n",
    "edgs"
   ],
   "id": "3d53c4e83004cf3f",
   "outputs": [
    {
     "data": {
      "text/plain": [
       "[('threads', 'application-variants'),\n",
       " ('evaluation-configs', 'question-sets'),\n",
       " ('knowledge-bases', 'accounts'),\n",
       " ('rerankings', 'chunks'),\n",
       " ('evaluation-configs', 'studio-projects'),\n",
       " ('autogenerated-draft-test-cases', 'autogenerated-draft-test-cases'),\n",
       " ('test-case-results', 'accounts'),\n",
       " ('knowledge-base-data-sources', 'accounts'),\n",
       " ('uploads', 'chunks'),\n",
       " ('models', 'chat-completions'),\n",
       " ('evaluations', 'test-case-results'),\n",
       " ('application-variants', 'application-specs'),\n",
       " ('application-variants', 'accounts'),\n",
       " ('evaluations', 'claim-task'),\n",
       " ('model-groups', 'models'),\n",
       " ('batch-delete', 'artifacts'),\n",
       " ('completions', 'models'),\n",
       " ('chunks', 'synthesis'),\n",
       " ('chunks', 'rank'),\n",
       " ('evaluation-datasets', 'accounts'),\n",
       " ('chat-completions', 'accounts'),\n",
       " ('evaluation-datasets', 'evaluation-dataset-versions'),\n",
       " ('artifacts', 'batch-delete'),\n",
       " ('threads', 'accounts'),\n",
       " ('uploads', 'uploads'),\n",
       " ('test-case-results', 'application-specs'),\n",
       " ('deployments', 'accounts'),\n",
       " ('evaluations', 'evaluation-configs'),\n",
       " ('models', 'model-groups'),\n",
       " ('fine-tuning-jobs', 'training-datasets'),\n",
       " ('models', 'deployments'),\n",
       " ('application-specs', 'accounts'),\n",
       " ('question-sets', 'accounts'),\n",
       " ('evaluation-dataset-versions', 'accounts'),\n",
       " ('evaluation-datasets', 'knowledge-bases'),\n",
       " ('fine-tuning-jobs', 'accounts'),\n",
       " ('application-deployments', 'accounts'),\n",
       " ('test-case-results', 'test-cases'),\n",
       " ('claim-task', 'accounts'),\n",
       " ('application-deployments', 'application-variants'),\n",
       " ('question-sets', 'questions'),\n",
       " ('application-test-case-outputs', 'test-cases'),\n",
       " ('execute', 'models'),\n",
       " ('models', 'embeddings'),\n",
       " ('chat-completions', 'models'),\n",
       " ('knowledge-bases', 'uploads'),\n",
       " ('autogenerated-draft-test-cases', 'accounts'),\n",
       " ('models', 'rerankings'),\n",
       " ('evaluations', 'application-variants'),\n",
       " ('evaluation-datasets', 'autogenerated-draft-test-cases'),\n",
       " ('models', 'completions'),\n",
       " ('upload-schedules', 'accounts'),\n",
       " ('knowledge-bases', 'artifacts'),\n",
       " ('knowledge-bases', 'upload_files'),\n",
       " ('test-cases', 'accounts'),\n",
       " ('evaluation-datasets', 'test-cases'),\n",
       " ('models', 'model-templates'),\n",
       " ('chat-completions', 'messages'),\n",
       " ('evaluations', 'evaluation-datasets'),\n",
       " ('studio-projects', 'accounts'),\n",
       " ('synthesis', 'chunks'),\n",
       " ('model-templates', 'accounts'),\n",
       " ('training-datasets', 'accounts'),\n",
       " ('upload-schedules', 'knowledge-base-data-sources'),\n",
       " ('evaluations', 'application-specs'),\n",
       " ('deployments', 'execute'),\n",
       " ('evaluations', 'accounts'),\n",
       " ('themes', 'accounts'),\n",
       " ('application-variant-reports', 'accounts'),\n",
       " ('application-variant-reports', 'application-variants'),\n",
       " ('evaluation-configs', 'accounts'),\n",
       " ('execute', 'messages'),\n",
       " ('application-test-case-outputs', 'accounts'),\n",
       " ('rank', 'accounts'),\n",
       " ('models', 'accounts'),\n",
       " ('questions', 'accounts'),\n",
       " ('application-test-case-outputs', 'application-variants'),\n",
       " ('application-variant-reports', 'evaluation-datasets'),\n",
       " ('knowledge-bases', 'upload-schedules'),\n",
       " ('model-groups', 'accounts'),\n",
       " ('completions', 'accounts'),\n",
       " ('application-specs', 'themes'),\n",
       " ('evaluation-datasets', 'generation-jobs')]"
      ]
     },
     "execution_count": 213,
     "metadata": {},
     "output_type": "execute_result"
    }
   ],
   "execution_count": 213
  },
  {
   "metadata": {
    "ExecuteTime": {
     "end_time": "2024-09-21T09:25:47.940530Z",
     "start_time": "2024-09-21T09:25:47.938680Z"
    }
   },
   "cell_type": "code",
   "source": [
    "from networkx import DiGraph\n",
    "import networkx as nx\n",
    "\n",
    "\n",
    "def build_dependency_tree(edges: []) -> DiGraph:\n",
    "    graph = nx.DiGraph()\n",
    "    graph.add_edges_from(edges)\n",
    "\n",
    "    return graph"
   ],
   "id": "927190ed034d2b35",
   "outputs": [],
   "execution_count": 214
  },
  {
   "metadata": {
    "ExecuteTime": {
     "end_time": "2024-09-21T09:25:47.942502Z",
     "start_time": "2024-09-21T09:25:47.940994Z"
    }
   },
   "cell_type": "code",
   "source": "g = build_dependency_tree(edgs)",
   "id": "5cf6453e1d4831ad",
   "outputs": [],
   "execution_count": 215
  },
  {
   "metadata": {
    "ExecuteTime": {
     "end_time": "2024-09-21T09:25:47.946604Z",
     "start_time": "2024-09-21T09:25:47.943212Z"
    }
   },
   "cell_type": "code",
   "source": [
    "import networkx as nx\n",
    "from anytree import Node, RenderTree\n",
    "from collections import deque\n",
    "\n",
    "def print_tree_for_node(graph: nx.DiGraph, start_node_name: str):\n",
    "    if start_node_name not in graph.nodes():\n",
    "        print(f\"Node '{start_node_name}' not found in the graph.\")\n",
    "        return\n",
    "\n",
    "    # Create a dictionary to store anytree Nodes\n",
    "    node_dict = {}\n",
    "    visited = set()  # To keep track of visited nodes\n",
    "\n",
    "    def create_tree(nx_node):\n",
    "        queue = deque([(nx_node, None)])\n",
    "        while queue:\n",
    "            current_node, parent = queue.popleft()\n",
    "            \n",
    "            if current_node in visited:\n",
    "                continue\n",
    "            visited.add(current_node)\n",
    "            \n",
    "            # Create anytree Node if it doesn't exist\n",
    "            if current_node not in node_dict:\n",
    "                node_dict[current_node] = Node(str(current_node), parent=parent)\n",
    "            elif parent:\n",
    "                # If node exists but with different parent, create a new node\n",
    "                node_dict[current_node] = Node(f\"{current_node}_dup\", parent=parent)\n",
    "            \n",
    "            # Add child nodes to the queue\n",
    "            for child in graph.successors(current_node):\n",
    "                if child not in visited:\n",
    "                    queue.append((child, node_dict[current_node]))\n",
    "\n",
    "    # Create the tree starting from the specified node\n",
    "    create_tree(start_node_name)\n",
    "\n",
    "    # Print the tree\n",
    "    print(f\"\\nTree rooted at {start_node_name}:\")\n",
    "    print(RenderTree(node_dict[start_node_name]))\n",
    "\n",
    "# Example usage\n",
    "# edges = [\n",
    "#     ('A', 'B'), ('A', 'C'), ('B', 'D'), ('B', 'E'),\n",
    "#     ('C', 'F'), ('E', 'G'), ('F', 'H'),\n",
    "#     ('I', 'J'), ('J', 'K'),\n",
    "#     ('D', 'B')  # Adding a cycle to test\n",
    "# ]\n",
    "# \n",
    "# graph = nx.DiGraph(edges)\n",
    "# \n",
    "# # Print tree for node 'A'\n",
    "# print_tree_for_node(graph, 'A')\n",
    "# \n",
    "# # Print tree for node 'B'\n",
    "# print_tree_for_node(graph, 'B')\n",
    "# # Try to print tree for a non-existent node\n",
    "# print_tree_for_node(graph, 'Z')"
   ],
   "id": "d5765145daf40abe",
   "outputs": [],
   "execution_count": 216
  },
  {
   "metadata": {
    "ExecuteTime": {
     "end_time": "2024-09-21T09:25:47.949076Z",
     "start_time": "2024-09-21T09:25:47.947244Z"
    }
   },
   "cell_type": "code",
   "source": "print_tree_for_node(g, 'evaluation-datasets')",
   "id": "83fc028eed885b47",
   "outputs": [
    {
     "name": "stdout",
     "output_type": "stream",
     "text": [
      "\n",
      "Tree rooted at evaluation-datasets:\n",
      "Node('/evaluation-datasets')\n",
      "├── Node('/evaluation-datasets/accounts')\n",
      "├── Node('/evaluation-datasets/evaluation-dataset-versions')\n",
      "├── Node('/evaluation-datasets/knowledge-bases')\n",
      "│   ├── Node('/evaluation-datasets/knowledge-bases/uploads')\n",
      "│   │   └── Node('/evaluation-datasets/knowledge-bases/uploads/chunks')\n",
      "│   │       ├── Node('/evaluation-datasets/knowledge-bases/uploads/chunks/synthesis')\n",
      "│   │       └── Node('/evaluation-datasets/knowledge-bases/uploads/chunks/rank')\n",
      "│   ├── Node('/evaluation-datasets/knowledge-bases/artifacts')\n",
      "│   │   └── Node('/evaluation-datasets/knowledge-bases/artifacts/batch-delete')\n",
      "│   ├── Node('/evaluation-datasets/knowledge-bases/upload_files')\n",
      "│   └── Node('/evaluation-datasets/knowledge-bases/upload-schedules')\n",
      "│       └── Node('/evaluation-datasets/knowledge-bases/upload-schedules/knowledge-base-data-sources')\n",
      "├── Node('/evaluation-datasets/autogenerated-draft-test-cases')\n",
      "├── Node('/evaluation-datasets/test-cases')\n",
      "└── Node('/evaluation-datasets/generation-jobs')\n"
     ]
    }
   ],
   "execution_count": 217
  },
  {
   "metadata": {
    "ExecuteTime": {
     "end_time": "2024-09-21T09:25:47.952397Z",
     "start_time": "2024-09-21T09:25:47.950414Z"
    }
   },
   "cell_type": "code",
   "source": [
    "def print_graph(graph: nx.DiGraph):\n",
    "    print(\"Nodes:\")\n",
    "    for node in graph.nodes():\n",
    "        print(f\"  {node}\")\n",
    "    \n",
    "    print(\"\\nEdges:\")\n",
    "    for edge in graph.edges():\n",
    "        print(f\"  {edge[0]} -> {edge[1]}\")"
   ],
   "id": "b540b8bb8a829122",
   "outputs": [],
   "execution_count": 218
  },
  {
   "metadata": {
    "ExecuteTime": {
     "end_time": "2024-09-21T09:25:47.955Z",
     "start_time": "2024-09-21T09:25:47.953045Z"
    }
   },
   "cell_type": "code",
   "source": "print_graph(g)",
   "id": "be63fb1e9b8fdd88",
   "outputs": [
    {
     "name": "stdout",
     "output_type": "stream",
     "text": [
      "Nodes:\n",
      "  threads\n",
      "  application-variants\n",
      "  evaluation-configs\n",
      "  question-sets\n",
      "  knowledge-bases\n",
      "  accounts\n",
      "  rerankings\n",
      "  chunks\n",
      "  studio-projects\n",
      "  autogenerated-draft-test-cases\n",
      "  test-case-results\n",
      "  knowledge-base-data-sources\n",
      "  uploads\n",
      "  models\n",
      "  chat-completions\n",
      "  evaluations\n",
      "  application-specs\n",
      "  claim-task\n",
      "  model-groups\n",
      "  batch-delete\n",
      "  artifacts\n",
      "  completions\n",
      "  synthesis\n",
      "  rank\n",
      "  evaluation-datasets\n",
      "  evaluation-dataset-versions\n",
      "  deployments\n",
      "  fine-tuning-jobs\n",
      "  training-datasets\n",
      "  application-deployments\n",
      "  test-cases\n",
      "  questions\n",
      "  application-test-case-outputs\n",
      "  execute\n",
      "  embeddings\n",
      "  upload-schedules\n",
      "  upload_files\n",
      "  model-templates\n",
      "  messages\n",
      "  themes\n",
      "  application-variant-reports\n",
      "  generation-jobs\n",
      "\n",
      "Edges:\n",
      "  threads -> application-variants\n",
      "  threads -> accounts\n",
      "  application-variants -> application-specs\n",
      "  application-variants -> accounts\n",
      "  evaluation-configs -> question-sets\n",
      "  evaluation-configs -> studio-projects\n",
      "  evaluation-configs -> accounts\n",
      "  question-sets -> accounts\n",
      "  question-sets -> questions\n",
      "  knowledge-bases -> accounts\n",
      "  knowledge-bases -> uploads\n",
      "  knowledge-bases -> artifacts\n",
      "  knowledge-bases -> upload_files\n",
      "  knowledge-bases -> upload-schedules\n",
      "  rerankings -> chunks\n",
      "  chunks -> synthesis\n",
      "  chunks -> rank\n",
      "  studio-projects -> accounts\n",
      "  autogenerated-draft-test-cases -> autogenerated-draft-test-cases\n",
      "  autogenerated-draft-test-cases -> accounts\n",
      "  test-case-results -> accounts\n",
      "  test-case-results -> application-specs\n",
      "  test-case-results -> test-cases\n",
      "  knowledge-base-data-sources -> accounts\n",
      "  uploads -> chunks\n",
      "  uploads -> uploads\n",
      "  models -> chat-completions\n",
      "  models -> model-groups\n",
      "  models -> deployments\n",
      "  models -> embeddings\n",
      "  models -> rerankings\n",
      "  models -> completions\n",
      "  models -> model-templates\n",
      "  models -> accounts\n",
      "  chat-completions -> accounts\n",
      "  chat-completions -> models\n",
      "  chat-completions -> messages\n",
      "  evaluations -> test-case-results\n",
      "  evaluations -> claim-task\n",
      "  evaluations -> evaluation-configs\n",
      "  evaluations -> application-variants\n",
      "  evaluations -> evaluation-datasets\n",
      "  evaluations -> application-specs\n",
      "  evaluations -> accounts\n",
      "  application-specs -> accounts\n",
      "  application-specs -> themes\n",
      "  claim-task -> accounts\n",
      "  model-groups -> models\n",
      "  model-groups -> accounts\n",
      "  batch-delete -> artifacts\n",
      "  artifacts -> batch-delete\n",
      "  completions -> models\n",
      "  completions -> accounts\n",
      "  synthesis -> chunks\n",
      "  rank -> accounts\n",
      "  evaluation-datasets -> accounts\n",
      "  evaluation-datasets -> evaluation-dataset-versions\n",
      "  evaluation-datasets -> knowledge-bases\n",
      "  evaluation-datasets -> autogenerated-draft-test-cases\n",
      "  evaluation-datasets -> test-cases\n",
      "  evaluation-datasets -> generation-jobs\n",
      "  evaluation-dataset-versions -> accounts\n",
      "  deployments -> accounts\n",
      "  deployments -> execute\n",
      "  fine-tuning-jobs -> training-datasets\n",
      "  fine-tuning-jobs -> accounts\n",
      "  training-datasets -> accounts\n",
      "  application-deployments -> accounts\n",
      "  application-deployments -> application-variants\n",
      "  test-cases -> accounts\n",
      "  questions -> accounts\n",
      "  application-test-case-outputs -> test-cases\n",
      "  application-test-case-outputs -> accounts\n",
      "  application-test-case-outputs -> application-variants\n",
      "  execute -> models\n",
      "  execute -> messages\n",
      "  upload-schedules -> accounts\n",
      "  upload-schedules -> knowledge-base-data-sources\n",
      "  model-templates -> accounts\n",
      "  themes -> accounts\n",
      "  application-variant-reports -> accounts\n",
      "  application-variant-reports -> application-variants\n",
      "  application-variant-reports -> evaluation-datasets\n"
     ]
    }
   ],
   "execution_count": 219
  },
  {
   "metadata": {
    "ExecuteTime": {
     "end_time": "2024-09-21T09:25:47.956618Z",
     "start_time": "2024-09-21T09:25:47.955586Z"
    }
   },
   "cell_type": "code",
   "source": "",
   "id": "2a7c960bd41a5157",
   "outputs": [],
   "execution_count": 219
  }
 ],
 "metadata": {
  "kernelspec": {
   "display_name": "Python 3",
   "language": "python",
   "name": "python3"
  },
  "language_info": {
   "codemirror_mode": {
    "name": "ipython",
    "version": 2
   },
   "file_extension": ".py",
   "mimetype": "text/x-python",
   "name": "python",
   "nbconvert_exporter": "python",
   "pygments_lexer": "ipython2",
   "version": "2.7.6"
  }
 },
 "nbformat": 4,
 "nbformat_minor": 5
}
