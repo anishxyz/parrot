{
 "cells": [
  {
   "cell_type": "code",
   "id": "initial_id",
   "metadata": {
    "collapsed": true,
    "ExecuteTime": {
     "end_time": "2024-09-20T06:40:01.348024Z",
     "start_time": "2024-09-20T06:39:57.882049Z"
    }
   },
   "source": "!pip install pydantic anytree networkx matplotlib inflect openapi-core jsonref prance datamodel-code-generator",
   "outputs": [
    {
     "name": "stdout",
     "output_type": "stream",
     "text": [
      "Requirement already satisfied: pydantic in /Users/anishagrawal/Desktop/Development/parrot/venv/lib/python3.11/site-packages (2.8.2)\r\n",
      "Requirement already satisfied: anytree in /Users/anishagrawal/Desktop/Development/parrot/venv/lib/python3.11/site-packages (2.12.1)\r\n",
      "Requirement already satisfied: networkx in /Users/anishagrawal/Desktop/Development/parrot/venv/lib/python3.11/site-packages (3.3)\r\n",
      "Requirement already satisfied: matplotlib in /Users/anishagrawal/Desktop/Development/parrot/venv/lib/python3.11/site-packages (3.9.1)\r\n",
      "Requirement already satisfied: inflect in /Users/anishagrawal/Desktop/Development/parrot/venv/lib/python3.11/site-packages (7.3.1)\r\n",
      "Requirement already satisfied: openapi-core in /Users/anishagrawal/Desktop/Development/parrot/venv/lib/python3.11/site-packages (0.19.2)\r\n",
      "Requirement already satisfied: jsonref in /Users/anishagrawal/Desktop/Development/parrot/venv/lib/python3.11/site-packages (1.1.0)\r\n",
      "Requirement already satisfied: prance in /Users/anishagrawal/Desktop/Development/parrot/venv/lib/python3.11/site-packages (23.6.21.0)\r\n",
      "Collecting datamodel-code-generator\r\n",
      "  Downloading datamodel_code_generator-0.26.0-py3-none-any.whl (110 kB)\r\n",
      "\u001B[2K     \u001B[90m━━━━━━━━━━━━━━━━━━━━━━━━━━━━━━━━━━━━━━━\u001B[0m \u001B[32m110.9/110.9 kB\u001B[0m \u001B[31m2.8 MB/s\u001B[0m eta \u001B[36m0:00:00\u001B[0m\r\n",
      "\u001B[?25hRequirement already satisfied: annotated-types>=0.4.0 in /Users/anishagrawal/Desktop/Development/parrot/venv/lib/python3.11/site-packages (from pydantic) (0.7.0)\r\n",
      "Requirement already satisfied: pydantic-core==2.20.1 in /Users/anishagrawal/Desktop/Development/parrot/venv/lib/python3.11/site-packages (from pydantic) (2.20.1)\r\n",
      "Requirement already satisfied: typing-extensions>=4.6.1 in /Users/anishagrawal/Desktop/Development/parrot/venv/lib/python3.11/site-packages (from pydantic) (4.12.2)\r\n",
      "Requirement already satisfied: six in /Users/anishagrawal/Desktop/Development/parrot/venv/lib/python3.11/site-packages (from anytree) (1.16.0)\r\n",
      "Requirement already satisfied: contourpy>=1.0.1 in /Users/anishagrawal/Desktop/Development/parrot/venv/lib/python3.11/site-packages (from matplotlib) (1.2.1)\r\n",
      "Requirement already satisfied: cycler>=0.10 in /Users/anishagrawal/Desktop/Development/parrot/venv/lib/python3.11/site-packages (from matplotlib) (0.12.1)\r\n",
      "Requirement already satisfied: fonttools>=4.22.0 in /Users/anishagrawal/Desktop/Development/parrot/venv/lib/python3.11/site-packages (from matplotlib) (4.53.1)\r\n",
      "Requirement already satisfied: kiwisolver>=1.3.1 in /Users/anishagrawal/Desktop/Development/parrot/venv/lib/python3.11/site-packages (from matplotlib) (1.4.5)\r\n",
      "Requirement already satisfied: numpy>=1.23 in /Users/anishagrawal/Desktop/Development/parrot/venv/lib/python3.11/site-packages (from matplotlib) (2.0.0)\r\n",
      "Requirement already satisfied: packaging>=20.0 in /Users/anishagrawal/Desktop/Development/parrot/venv/lib/python3.11/site-packages (from matplotlib) (24.1)\r\n",
      "Requirement already satisfied: pillow>=8 in /Users/anishagrawal/Desktop/Development/parrot/venv/lib/python3.11/site-packages (from matplotlib) (10.4.0)\r\n",
      "Requirement already satisfied: pyparsing>=2.3.1 in /Users/anishagrawal/Desktop/Development/parrot/venv/lib/python3.11/site-packages (from matplotlib) (3.1.2)\r\n",
      "Requirement already satisfied: python-dateutil>=2.7 in /Users/anishagrawal/Desktop/Development/parrot/venv/lib/python3.11/site-packages (from matplotlib) (2.9.0.post0)\r\n",
      "Requirement already satisfied: more-itertools>=8.5.0 in /Users/anishagrawal/Desktop/Development/parrot/venv/lib/python3.11/site-packages (from inflect) (10.3.0)\r\n",
      "Requirement already satisfied: typeguard>=4.0.1 in /Users/anishagrawal/Desktop/Development/parrot/venv/lib/python3.11/site-packages (from inflect) (4.3.0)\r\n",
      "Requirement already satisfied: isodate in /Users/anishagrawal/Desktop/Development/parrot/venv/lib/python3.11/site-packages (from openapi-core) (0.6.1)\r\n",
      "Requirement already satisfied: jsonschema<5.0.0,>=4.18.0 in /Users/anishagrawal/Desktop/Development/parrot/venv/lib/python3.11/site-packages (from openapi-core) (4.22.0)\r\n",
      "Requirement already satisfied: jsonschema-path<0.4.0,>=0.3.1 in /Users/anishagrawal/Desktop/Development/parrot/venv/lib/python3.11/site-packages (from openapi-core) (0.3.3)\r\n",
      "Requirement already satisfied: openapi-schema-validator<0.7.0,>=0.6.0 in /Users/anishagrawal/Desktop/Development/parrot/venv/lib/python3.11/site-packages (from openapi-core) (0.6.2)\r\n",
      "Requirement already satisfied: openapi-spec-validator<0.8.0,>=0.7.1 in /Users/anishagrawal/Desktop/Development/parrot/venv/lib/python3.11/site-packages (from openapi-core) (0.7.1)\r\n",
      "Requirement already satisfied: parse in /Users/anishagrawal/Desktop/Development/parrot/venv/lib/python3.11/site-packages (from openapi-core) (1.20.2)\r\n",
      "Requirement already satisfied: werkzeug in /Users/anishagrawal/Desktop/Development/parrot/venv/lib/python3.11/site-packages (from openapi-core) (3.0.3)\r\n",
      "Requirement already satisfied: chardet>=3.0 in /Users/anishagrawal/Desktop/Development/parrot/venv/lib/python3.11/site-packages (from prance) (5.2.0)\r\n",
      "Requirement already satisfied: ruamel.yaml>=0.17.10 in /Users/anishagrawal/Desktop/Development/parrot/venv/lib/python3.11/site-packages (from prance) (0.18.6)\r\n",
      "Requirement already satisfied: requests>=2.25 in /Users/anishagrawal/Desktop/Development/parrot/venv/lib/python3.11/site-packages (from prance) (2.32.3)\r\n",
      "Collecting argcomplete<4.0,>=1.10\r\n",
      "  Downloading argcomplete-3.5.0-py3-none-any.whl (43 kB)\r\n",
      "\u001B[2K     \u001B[90m━━━━━━━━━━━━━━━━━━━━━━━━━━━━━━━━━━━━━━━━\u001B[0m \u001B[32m43.5/43.5 kB\u001B[0m \u001B[31m4.3 MB/s\u001B[0m eta \u001B[36m0:00:00\u001B[0m\r\n",
      "\u001B[?25hCollecting black>=19.10b0\r\n",
      "  Downloading black-24.8.0-cp311-cp311-macosx_11_0_arm64.whl (1.4 MB)\r\n",
      "\u001B[2K     \u001B[90m━━━━━━━━━━━━━━━━━━━━━━━━━━━━━━━━━━━━━━━━\u001B[0m \u001B[32m1.4/1.4 MB\u001B[0m \u001B[31m20.1 MB/s\u001B[0m eta \u001B[36m0:00:00\u001B[0m00:01\u001B[0m00:01\u001B[0m\r\n",
      "\u001B[?25hCollecting genson<2.0,>=1.2.1\r\n",
      "  Downloading genson-1.3.0-py3-none-any.whl (21 kB)\r\n",
      "Collecting inflect\r\n",
      "  Downloading inflect-5.6.2-py3-none-any.whl (33 kB)\r\n",
      "Collecting isort<6.0,>=4.3.21\r\n",
      "  Downloading isort-5.13.2-py3-none-any.whl (92 kB)\r\n",
      "\u001B[2K     \u001B[90m━━━━━━━━━━━━━━━━━━━━━━━━━━━━━━━━━━━━━━━━\u001B[0m \u001B[32m92.3/92.3 kB\u001B[0m \u001B[31m10.4 MB/s\u001B[0m eta \u001B[36m0:00:00\u001B[0m\r\n",
      "\u001B[?25hRequirement already satisfied: jinja2<4.0,>=2.10.1 in /Users/anishagrawal/Desktop/Development/parrot/venv/lib/python3.11/site-packages (from datamodel-code-generator) (3.1.4)\r\n",
      "Requirement already satisfied: pyyaml>=6.0.1 in /Users/anishagrawal/Desktop/Development/parrot/venv/lib/python3.11/site-packages (from datamodel-code-generator) (6.0.1)\r\n",
      "Requirement already satisfied: click>=8.0.0 in /Users/anishagrawal/Desktop/Development/parrot/venv/lib/python3.11/site-packages (from black>=19.10b0->datamodel-code-generator) (8.1.7)\r\n",
      "Collecting mypy-extensions>=0.4.3\r\n",
      "  Downloading mypy_extensions-1.0.0-py3-none-any.whl (4.7 kB)\r\n",
      "Collecting pathspec>=0.9.0\r\n",
      "  Downloading pathspec-0.12.1-py3-none-any.whl (31 kB)\r\n",
      "Requirement already satisfied: platformdirs>=2 in /Users/anishagrawal/Desktop/Development/parrot/venv/lib/python3.11/site-packages (from black>=19.10b0->datamodel-code-generator) (4.2.2)\r\n",
      "Requirement already satisfied: MarkupSafe>=2.0 in /Users/anishagrawal/Desktop/Development/parrot/venv/lib/python3.11/site-packages (from jinja2<4.0,>=2.10.1->datamodel-code-generator) (2.1.5)\r\n",
      "Requirement already satisfied: attrs>=22.2.0 in /Users/anishagrawal/Desktop/Development/parrot/venv/lib/python3.11/site-packages (from jsonschema<5.0.0,>=4.18.0->openapi-core) (23.2.0)\r\n",
      "Requirement already satisfied: jsonschema-specifications>=2023.03.6 in /Users/anishagrawal/Desktop/Development/parrot/venv/lib/python3.11/site-packages (from jsonschema<5.0.0,>=4.18.0->openapi-core) (2023.12.1)\r\n",
      "Requirement already satisfied: referencing>=0.28.4 in /Users/anishagrawal/Desktop/Development/parrot/venv/lib/python3.11/site-packages (from jsonschema<5.0.0,>=4.18.0->openapi-core) (0.35.1)\r\n",
      "Requirement already satisfied: rpds-py>=0.7.1 in /Users/anishagrawal/Desktop/Development/parrot/venv/lib/python3.11/site-packages (from jsonschema<5.0.0,>=4.18.0->openapi-core) (0.18.1)\r\n",
      "Requirement already satisfied: pathable<0.5.0,>=0.4.1 in /Users/anishagrawal/Desktop/Development/parrot/venv/lib/python3.11/site-packages (from jsonschema-path<0.4.0,>=0.3.1->openapi-core) (0.4.3)\r\n",
      "Requirement already satisfied: rfc3339-validator in /Users/anishagrawal/Desktop/Development/parrot/venv/lib/python3.11/site-packages (from openapi-schema-validator<0.7.0,>=0.6.0->openapi-core) (0.1.4)\r\n",
      "Requirement already satisfied: lazy-object-proxy<2.0.0,>=1.7.1 in /Users/anishagrawal/Desktop/Development/parrot/venv/lib/python3.11/site-packages (from openapi-spec-validator<0.8.0,>=0.7.1->openapi-core) (1.10.0)\r\n",
      "Requirement already satisfied: email-validator>=2.0.0 in /Users/anishagrawal/Desktop/Development/parrot/venv/lib/python3.11/site-packages (from pydantic) (2.2.0)\r\n",
      "Requirement already satisfied: charset-normalizer<4,>=2 in /Users/anishagrawal/Desktop/Development/parrot/venv/lib/python3.11/site-packages (from requests>=2.25->prance) (3.3.2)\r\n",
      "Requirement already satisfied: idna<4,>=2.5 in /Users/anishagrawal/Desktop/Development/parrot/venv/lib/python3.11/site-packages (from requests>=2.25->prance) (3.7)\r\n",
      "Requirement already satisfied: urllib3<3,>=1.21.1 in /Users/anishagrawal/Desktop/Development/parrot/venv/lib/python3.11/site-packages (from requests>=2.25->prance) (2.2.2)\r\n",
      "Requirement already satisfied: certifi>=2017.4.17 in /Users/anishagrawal/Desktop/Development/parrot/venv/lib/python3.11/site-packages (from requests>=2.25->prance) (2024.7.4)\r\n",
      "Requirement already satisfied: ruamel.yaml.clib>=0.2.7 in /Users/anishagrawal/Desktop/Development/parrot/venv/lib/python3.11/site-packages (from ruamel.yaml>=0.17.10->prance) (0.2.8)\r\n",
      "Requirement already satisfied: dnspython>=2.0.0 in /Users/anishagrawal/Desktop/Development/parrot/venv/lib/python3.11/site-packages (from email-validator>=2.0.0->pydantic) (2.6.1)\r\n",
      "Installing collected packages: genson, pathspec, mypy-extensions, isort, inflect, argcomplete, black, datamodel-code-generator\r\n",
      "  Attempting uninstall: inflect\r\n",
      "    Found existing installation: inflect 7.3.1\r\n",
      "    Uninstalling inflect-7.3.1:\r\n",
      "      Successfully uninstalled inflect-7.3.1\r\n",
      "Successfully installed argcomplete-3.5.0 black-24.8.0 datamodel-code-generator-0.26.0 genson-1.3.0 inflect-5.6.2 isort-5.13.2 mypy-extensions-1.0.0 pathspec-0.12.1\r\n",
      "\r\n",
      "\u001B[1m[\u001B[0m\u001B[34;49mnotice\u001B[0m\u001B[1;39;49m]\u001B[0m\u001B[39;49m A new release of pip available: \u001B[0m\u001B[31;49m22.3.1\u001B[0m\u001B[39;49m -> \u001B[0m\u001B[32;49m24.2\u001B[0m\r\n",
      "\u001B[1m[\u001B[0m\u001B[34;49mnotice\u001B[0m\u001B[1;39;49m]\u001B[0m\u001B[39;49m To update, run: \u001B[0m\u001B[32;49mpip install --upgrade pip\u001B[0m\r\n"
     ]
    }
   ],
   "execution_count": 5
  },
  {
   "metadata": {
    "ExecuteTime": {
     "end_time": "2024-09-20T06:39:06.743310Z",
     "start_time": "2024-09-20T06:39:06.739592Z"
    }
   },
   "cell_type": "code",
   "source": [
    "import logging\n",
    "\n",
    "logging.basicConfig(level=logging.DEBUG, format='%(asctime)s - %(levelname)s - %(message)s')"
   ],
   "id": "e5ece1630b092446",
   "outputs": [],
   "execution_count": 1
  },
  {
   "metadata": {
    "ExecuteTime": {
     "end_time": "2024-09-20T06:39:06.752422Z",
     "start_time": "2024-09-20T06:39:06.750514Z"
    }
   },
   "cell_type": "code",
   "source": [
    "import json\n",
    "\n",
    "def parse_spec(file_path):\n",
    "    with open(file_path, 'r') as file:\n",
    "        return json.load(file)"
   ],
   "id": "78ac318cbef9152b",
   "outputs": [],
   "execution_count": 2
  },
  {
   "metadata": {
    "ExecuteTime": {
     "end_time": "2024-09-20T06:39:08.092231Z",
     "start_time": "2024-09-20T06:39:08.032467Z"
    }
   },
   "cell_type": "code",
   "source": [
    "filepath = \"../openapi_specs/resolved/stripe-08-10-24.json\"\n",
    "\n",
    "spec = parse_spec(filepath)"
   ],
   "id": "c9a6933c07023dd1",
   "outputs": [],
   "execution_count": 3
  },
  {
   "metadata": {
    "ExecuteTime": {
     "end_time": "2024-09-20T08:28:33.911554Z",
     "start_time": "2024-09-20T08:28:25.715199Z"
    }
   },
   "cell_type": "code",
   "source": "# !datamodel-codegen  --input \"../openapi_specs/stripe-08-10-24.yaml\" --input-file-type openapi --output model.py",
   "id": "eefd77c73f929a90",
   "outputs": [
    {
     "name": "stdout",
     "output_type": "stream",
     "text": [
      "Modular references require an output directory, not a file\r\n"
     ]
    }
   ],
   "execution_count": 50
  },
  {
   "metadata": {
    "ExecuteTime": {
     "end_time": "2024-09-20T08:41:51.935405Z",
     "start_time": "2024-09-20T08:41:51.929117Z"
    }
   },
   "cell_type": "code",
   "source": [
    "from pydantic import BaseModel\n",
    "from collections import defaultdict\n",
    "\n",
    "\n",
    "class RouteMethodDescription(BaseModel):\n",
    "    method: str\n",
    "    description: str\n",
    "\n",
    "\n",
    "# fetch all resources\n",
    "def extract_resources(openapi: dict):\n",
    "    resource_to_routes = defaultdict()  # resource -> {paths} -> {methods} -> description\n",
    "\n",
    "    for path, methods in openapi['paths'].items():\n",
    "        # not a _real_ resource\n",
    "        if 'get' not in methods.keys() and 'post' not in methods.keys():\n",
    "            continue\n",
    "\n",
    "        # find current resource  \n",
    "        def find_last_unwrapped_element(path_list):\n",
    "            for element in reversed(path_list):\n",
    "                if not (element.startswith('{') and element.endswith('}')):\n",
    "                    return element\n",
    "            return None\n",
    "\n",
    "        resource = find_last_unwrapped_element(path.split('/'))\n",
    "\n",
    "        if not resource:\n",
    "            continue\n",
    "\n",
    "        if resource not in resource_to_routes:\n",
    "            resource_to_routes[resource] = {}\n",
    "\n",
    "        resource_to_routes[resource][path] = {}\n",
    "\n",
    "        for m, v in methods.items():\n",
    "            resource_to_routes[resource][path][m] = v.get('description')\n",
    "\n",
    "    return resource_to_routes"
   ],
   "id": "5a180440004eaead",
   "outputs": [],
   "execution_count": 69
  },
  {
   "metadata": {
    "ExecuteTime": {
     "end_time": "2024-09-20T09:09:55.900742Z",
     "start_time": "2024-09-20T09:09:55.897468Z"
    }
   },
   "cell_type": "code",
   "source": [
    "extraction = extract_resources(spec)\n",
    "resources = extraction.keys()\n",
    "\n",
    "resources"
   ],
   "id": "71e56fcef8316e2b",
   "outputs": [
    {
     "data": {
      "text/plain": [
       "dict_keys(['account', 'account_links', 'account_sessions', 'accounts', 'bank_accounts', 'capabilities', 'external_accounts', 'login_links', 'people', 'persons', 'reject', 'domains', 'application_fees', 'refunds', 'refund', 'secrets', 'delete', 'find', 'balance', 'history', 'balance_transactions', 'alerts', 'activate', 'archive', 'deactivate', 'meter_event_adjustments', 'meter_events', 'meters', 'event_summaries', 'reactivate', 'configurations', 'sessions', 'charges', 'search', 'capture', 'dispute', 'close', 'expire', 'line_items', 'orders', 'cancel', 'products', 'suppliers', 'confirmation_tokens', 'country_specs', 'coupons', 'credit_notes', 'preview', 'lines', 'void', 'customer_sessions', 'customers', 'verify', 'cards', 'cash_balance', 'cash_balance_transactions', 'discount', 'funding_instructions', 'payment_methods', 'sources', 'subscriptions', 'tax_ids', 'disputes', 'active_entitlements', 'features', 'ephemeral_keys', 'events', 'exchange_rates', 'file_links', 'files', 'disconnect', 'owners', 'refresh', 'subscribe', 'unsubscribe', 'transactions', 'requests', 'verification_reports', 'verification_sessions', 'redact', 'invoiceitems', 'invoices', 'create_preview', 'upcoming', 'add_lines', 'finalize', 'mark_uncollectible', 'pay', 'remove_lines', 'send', 'update_lines', 'authorizations', 'approve', 'decline', 'cardholders', 'submit', 'personalization_designs', 'physical_bundles', 'settlements', 'tokens', 'link_account_sessions', 'linked_accounts', 'mandates', 'payment_intents', 'apply_customer_balance', 'confirm', 'increment_authorization', 'verify_microdeposits', 'payment_links', 'payment_method_configurations', 'payment_method_domains', 'validate', 'attach', 'detach', 'payouts', 'reverse', 'plans', 'prices', 'promotion_codes', 'quotes', 'accept', 'computed_upfront_line_items', 'pdf', 'early_fraud_warnings', 'value_list_items', 'value_lists', 'report_runs', 'report_types', 'reviews', 'setup_attempts', 'setup_intents', 'shipping_rates', 'scheduled_query_runs', 'mandate_notifications', 'source_transactions', 'subscription_items', 'usage_record_summaries', 'usage_records', 'subscription_schedules', 'release', 'resume', 'calculations', 'registrations', 'settings', 'create_from_calculation', 'create_reversal', 'tax_codes', 'tax_rates', 'connection_tokens', 'locations', 'readers', 'cancel_action', 'process_payment_intent', 'process_setup_intent', 'refund_payment', 'set_reader_display', 'fund_cash_balance', 'finalize_amount', 'increment', 'deliver', 'fail', 'return', 'ship', 'create_force_capture', 'create_unlinked_refund', 'present_payment_method', 'test_clocks', 'advance', 'succeed', 'outbound_payments', 'post', 'outbound_transfers', 'received_credits', 'received_debits', 'topups', 'transfers', 'reversals', 'credit_reversals', 'debit_reversals', 'financial_accounts', 'inbound_transfers', 'transaction_entries', 'webhook_endpoints'])"
      ]
     },
     "execution_count": 116,
     "metadata": {},
     "output_type": "execute_result"
    }
   ],
   "execution_count": 116
  },
  {
   "metadata": {
    "ExecuteTime": {
     "end_time": "2024-09-20T09:22:42.247687Z",
     "start_time": "2024-09-20T09:22:42.240911Z"
    }
   },
   "cell_type": "code",
   "source": [
    "# GOAL: create resource dependency tree\n",
    "# Thesis: to create a resource you need to do POST, dependents are ids and other resource names\n",
    "\n",
    "def organize_resources(openapi):\n",
    "    edges = [] # list(parent, child)\n",
    "\n",
    "    for path, methods in openapi['paths'].items():\n",
    "        # not a _real_ resource\n",
    "        if 'post' not in methods.keys():\n",
    "            continue\n",
    "        \n",
    "        path_list = path.split('/')\n",
    "        \n",
    "        # edges from path structure\n",
    "        flag = None\n",
    "        for p in path_list:\n",
    "            if p in resources and flag:\n",
    "                edges.append((flag, p))\n",
    "            if p in resources:\n",
    "                flag = p    \n",
    "        \n",
    "        # edges from request shape\n",
    "        def extract_param_names(obj):\n",
    "            param_names = []\n",
    "            \n",
    "            def recursive_extract(current_obj):\n",
    "                if isinstance(current_obj, dict):\n",
    "                    if 'properties' in current_obj:\n",
    "                        param_names.extend(current_obj['properties'].keys())\n",
    "                    else:\n",
    "                        for value in current_obj.values():\n",
    "                            recursive_extract(value)\n",
    "                elif isinstance(current_obj, list):\n",
    "                    for item in current_obj:\n",
    "                        recursive_extract(item)\n",
    "            \n",
    "            recursive_extract(obj)\n",
    "            return list(set(param_names))\n",
    "        \n",
    "        def is_in_main_list(string, main_list):\n",
    "            return string in main_list\n",
    "        \n",
    "        def is_singular_in_main_list(string, main_list):\n",
    "            return string.endswith('s') and string[:-1] in main_list\n",
    "        \n",
    "        def filter_strings(main_list, filter_list):\n",
    "            conditions = [\n",
    "                is_in_main_list,\n",
    "                is_singular_in_main_list,\n",
    "            ]\n",
    "            \n",
    "            return [\n",
    "                string for string in filter_list \n",
    "                if any(condition(string, main_list) for condition in conditions)\n",
    "            ]\n",
    "        \n",
    "        params = extract_param_names(methods['post']['requestBody'])\n",
    "        for r in filter_strings(params, resources):\n",
    "            edges.append((flag, r))\n",
    "    \n",
    "    return edges"
   ],
   "id": "db15b0e525a2a2d3",
   "outputs": [],
   "execution_count": 131
  },
  {
   "metadata": {
    "ExecuteTime": {
     "end_time": "2024-09-20T09:22:42.782999Z",
     "start_time": "2024-09-20T09:22:42.760087Z"
    }
   },
   "cell_type": "code",
   "source": [
    "edgs = organize_resources(spec)\n",
    "edgs\n",
    "\n",
    "len(edgs)"
   ],
   "id": "3d53c4e83004cf3f",
   "outputs": [
    {
     "data": {
      "text/plain": [
       "350"
      ]
     },
     "execution_count": 132,
     "metadata": {},
     "output_type": "execute_result"
    }
   ],
   "execution_count": 132
  },
  {
   "metadata": {
    "ExecuteTime": {
     "end_time": "2024-09-20T09:24:46.104775Z",
     "start_time": "2024-09-20T09:24:46.102457Z"
    }
   },
   "cell_type": "code",
   "source": [
    "from networkx import DiGraph\n",
    "import networkx as nx\n",
    "\n",
    "\n",
    "def build_dependency_tree(edges: []) -> DiGraph:\n",
    "    graph = nx.DiGraph()  # Directed graph allows a child to have multiple parents\n",
    "\n",
    "    graph.add_edges_from(edges)\n",
    "\n",
    "    return graph"
   ],
   "id": "927190ed034d2b35",
   "outputs": [],
   "execution_count": 134
  },
  {
   "metadata": {
    "ExecuteTime": {
     "end_time": "2024-09-20T09:24:46.439479Z",
     "start_time": "2024-09-20T09:24:46.436700Z"
    }
   },
   "cell_type": "code",
   "source": "g = build_dependency_tree(edgs)",
   "id": "5cf6453e1d4831ad",
   "outputs": [],
   "execution_count": 135
  },
  {
   "metadata": {
    "ExecuteTime": {
     "end_time": "2024-09-20T09:24:47.681168Z",
     "start_time": "2024-09-20T09:24:47.677697Z"
    }
   },
   "cell_type": "code",
   "source": "g",
   "id": "83fc028eed885b47",
   "outputs": [
    {
     "data": {
      "text/plain": [
       "<networkx.classes.digraph.DiGraph at 0x1232095d0>"
      ]
     },
     "execution_count": 136,
     "metadata": {},
     "output_type": "execute_result"
    }
   ],
   "execution_count": 136
  },
  {
   "metadata": {},
   "cell_type": "code",
   "outputs": [],
   "execution_count": null,
   "source": "",
   "id": "b540b8bb8a829122"
  }
 ],
 "metadata": {
  "kernelspec": {
   "display_name": "Python 3",
   "language": "python",
   "name": "python3"
  },
  "language_info": {
   "codemirror_mode": {
    "name": "ipython",
    "version": 2
   },
   "file_extension": ".py",
   "mimetype": "text/x-python",
   "name": "python",
   "nbconvert_exporter": "python",
   "pygments_lexer": "ipython2",
   "version": "2.7.6"
  }
 },
 "nbformat": 4,
 "nbformat_minor": 5
}
